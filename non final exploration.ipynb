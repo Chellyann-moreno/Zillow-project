{
 "cells": [
  {
   "cell_type": "code",
   "execution_count": 1,
   "id": "d873ac3e-f7fc-41a5-ad50-46e8e3859151",
   "metadata": {},
   "outputs": [],
   "source": [
    "import pandas as pd\n",
    "import numpy as np\n",
    "import os\n",
    "import env\n",
    "\n",
    "import numpy as np\n",
    "import matplotlib.pyplot as plt\n",
    "import seaborn as sns\n",
    "\n",
    "# modeling methods\n",
    "from sklearn.metrics import mean_squared_error,r2_score\n",
    "from sklearn.linear_model import LinearRegression, LassoLars, TweedieRegressor\n",
    "from sklearn.preprocessing import PolynomialFeatures\n",
    "\n",
    "import warnings\n",
    "warnings.filterwarnings(\"ignore\")"
   ]
  },
  {
   "cell_type": "code",
   "execution_count": 2,
   "id": "ae5516a7-f7f9-48f9-ac71-0c790a6c449d",
   "metadata": {},
   "outputs": [],
   "source": [
    "url=env.get_db_url('zillow')\n",
    "    \n",
    "query= \"\"\"Select prop.parcelid,bathroomcnt, bedroomcnt,calculatedfinishedsquarefeet\n",
    "        ,yearbuilt,airconditioningtypeid,garagecarcnt, poolcnt,taxvaluedollarcnt,fips, pred.transactiondate\n",
    "        from properties_2017 as prop\n",
    "        left join predictions_2017 as pred using(parcelid) \n",
    "        where propertylandusetypeid in (261,279)\"\"\"\n",
    "directory='/Users/chellyannmoreno/codeup-data-science/regression-project/'\n",
    "filename=('zillow.csv')"
   ]
  },
  {
   "cell_type": "code",
   "execution_count": 3,
   "id": "dcb67466-7ec6-45ff-8ea8-140c5f41b452",
   "metadata": {},
   "outputs": [],
   "source": [
    "def get_data():\n",
    "    if os.path.exists(directory+filename):\n",
    "        df=pd.read_csv(filename)\n",
    "        df = df[df['transactiondate'].str.startswith(\"2017\", na=False)]\n",
    "        return df\n",
    "    else:\n",
    "        df=pd.read_sql(query,url)\n",
    "        df.to_csv(filename,index=False)\n",
    "        # cache data locally\n",
    "        df.to_csv(filename, index=False)\n",
    "        df = df[df['transactiondate'].str.startswith(\"2017\", na=False)]\n",
    "        return df"
   ]
  },
  {
   "cell_type": "code",
   "execution_count": 4,
   "id": "755e26f9-b5ea-4590-9d82-d844a9dbe563",
   "metadata": {},
   "outputs": [],
   "source": [
    "df=get_data()"
   ]
  },
  {
   "cell_type": "code",
   "execution_count": 5,
   "id": "65f754f0-f9ec-4e02-a501-8f930a1852e2",
   "metadata": {},
   "outputs": [
    {
     "data": {
      "text/plain": [
       "(52441, 11)"
      ]
     },
     "execution_count": 5,
     "metadata": {},
     "output_type": "execute_result"
    }
   ],
   "source": [
    "\n",
    "df.shape"
   ]
  },
  {
   "cell_type": "code",
   "execution_count": 6,
   "id": "103e27b8-3311-4e14-b7a5-eca92515ff6b",
   "metadata": {},
   "outputs": [],
   "source": [
    "df = df.rename(columns={\n",
    "        'bedroomcnt': 'bedrooms',\n",
    "        'bathroomcnt': 'bathrooms',\n",
    "        'calculatedfinishedsquarefeet': 'area',\n",
    "        'taxvaluedollarcnt': 'taxvalue',\n",
    "        'fips': 'county','airconditioningtypeid':'air_conditioning','poolcnt':'pool','garagecarcnt':'car_garage'})"
   ]
  },
  {
   "cell_type": "code",
   "execution_count": 7,
   "id": "07c05fd3-01cf-4107-bf99-fc326627ff27",
   "metadata": {},
   "outputs": [
    {
     "data": {
      "text/html": [
       "<div>\n",
       "<style scoped>\n",
       "    .dataframe tbody tr th:only-of-type {\n",
       "        vertical-align: middle;\n",
       "    }\n",
       "\n",
       "    .dataframe tbody tr th {\n",
       "        vertical-align: top;\n",
       "    }\n",
       "\n",
       "    .dataframe thead th {\n",
       "        text-align: right;\n",
       "    }\n",
       "</style>\n",
       "<table border=\"1\" class=\"dataframe\">\n",
       "  <thead>\n",
       "    <tr style=\"text-align: right;\">\n",
       "      <th></th>\n",
       "      <th>parcelid</th>\n",
       "      <th>bathrooms</th>\n",
       "      <th>bedrooms</th>\n",
       "      <th>area</th>\n",
       "      <th>yearbuilt</th>\n",
       "      <th>air_conditioning</th>\n",
       "      <th>car_garage</th>\n",
       "      <th>pool</th>\n",
       "      <th>taxvalue</th>\n",
       "      <th>county</th>\n",
       "      <th>transactiondate</th>\n",
       "    </tr>\n",
       "  </thead>\n",
       "  <tbody>\n",
       "    <tr>\n",
       "      <th>0</th>\n",
       "      <td>17173851</td>\n",
       "      <td>2.0</td>\n",
       "      <td>4.0</td>\n",
       "      <td>1848.0</td>\n",
       "      <td>1952.0</td>\n",
       "      <td>NaN</td>\n",
       "      <td>NaN</td>\n",
       "      <td>NaN</td>\n",
       "      <td>64712.0</td>\n",
       "      <td>6111.0</td>\n",
       "      <td>2017-01-03</td>\n",
       "    </tr>\n",
       "    <tr>\n",
       "      <th>1</th>\n",
       "      <td>10821119</td>\n",
       "      <td>2.0</td>\n",
       "      <td>2.0</td>\n",
       "      <td>1430.0</td>\n",
       "      <td>1952.0</td>\n",
       "      <td>NaN</td>\n",
       "      <td>NaN</td>\n",
       "      <td>1.0</td>\n",
       "      <td>381638.0</td>\n",
       "      <td>6037.0</td>\n",
       "      <td>2017-01-03</td>\n",
       "    </tr>\n",
       "    <tr>\n",
       "      <th>2</th>\n",
       "      <td>11007640</td>\n",
       "      <td>2.0</td>\n",
       "      <td>3.0</td>\n",
       "      <td>1572.0</td>\n",
       "      <td>1976.0</td>\n",
       "      <td>1.0</td>\n",
       "      <td>NaN</td>\n",
       "      <td>NaN</td>\n",
       "      <td>305307.0</td>\n",
       "      <td>6037.0</td>\n",
       "      <td>2017-01-12</td>\n",
       "    </tr>\n",
       "    <tr>\n",
       "      <th>3</th>\n",
       "      <td>11457850</td>\n",
       "      <td>2.0</td>\n",
       "      <td>3.0</td>\n",
       "      <td>1412.0</td>\n",
       "      <td>1941.0</td>\n",
       "      <td>NaN</td>\n",
       "      <td>NaN</td>\n",
       "      <td>NaN</td>\n",
       "      <td>93146.0</td>\n",
       "      <td>6037.0</td>\n",
       "      <td>2017-01-11</td>\n",
       "    </tr>\n",
       "    <tr>\n",
       "      <th>4</th>\n",
       "      <td>12591550</td>\n",
       "      <td>2.0</td>\n",
       "      <td>3.0</td>\n",
       "      <td>1352.0</td>\n",
       "      <td>1959.0</td>\n",
       "      <td>NaN</td>\n",
       "      <td>NaN</td>\n",
       "      <td>NaN</td>\n",
       "      <td>482242.0</td>\n",
       "      <td>6037.0</td>\n",
       "      <td>2017-01-13</td>\n",
       "    </tr>\n",
       "  </tbody>\n",
       "</table>\n",
       "</div>"
      ],
      "text/plain": [
       "   parcelid  bathrooms  bedrooms    area  yearbuilt  air_conditioning  \\\n",
       "0  17173851        2.0       4.0  1848.0     1952.0               NaN   \n",
       "1  10821119        2.0       2.0  1430.0     1952.0               NaN   \n",
       "2  11007640        2.0       3.0  1572.0     1976.0               1.0   \n",
       "3  11457850        2.0       3.0  1412.0     1941.0               NaN   \n",
       "4  12591550        2.0       3.0  1352.0     1959.0               NaN   \n",
       "\n",
       "   car_garage  pool  taxvalue  county transactiondate  \n",
       "0         NaN   NaN   64712.0  6111.0      2017-01-03  \n",
       "1         NaN   1.0  381638.0  6037.0      2017-01-03  \n",
       "2         NaN   NaN  305307.0  6037.0      2017-01-12  \n",
       "3         NaN   NaN   93146.0  6037.0      2017-01-11  \n",
       "4         NaN   NaN  482242.0  6037.0      2017-01-13  "
      ]
     },
     "execution_count": 7,
     "metadata": {},
     "output_type": "execute_result"
    }
   ],
   "source": [
    "df.head()"
   ]
  },
  {
   "cell_type": "code",
   "execution_count": 8,
   "id": "56725f25",
   "metadata": {},
   "outputs": [],
   "source": [
    "df['transactiondate'] = df['transactiondate'].astype('datetime64[ns]')"
   ]
  },
  {
   "cell_type": "code",
   "execution_count": 9,
   "id": "e801a50a-3332-4ecf-9412-c5b6c78befb3",
   "metadata": {},
   "outputs": [
    {
     "name": "stdout",
     "output_type": "stream",
     "text": [
      "<class 'pandas.core.frame.DataFrame'>\n",
      "Int64Index: 52341 entries, 0 to 2152982\n",
      "Data columns (total 11 columns):\n",
      " #   Column            Non-Null Count  Dtype         \n",
      "---  ------            --------------  -----         \n",
      " 0   parcelid          52341 non-null  int64         \n",
      " 1   bathrooms         52341 non-null  float64       \n",
      " 2   bedrooms          52341 non-null  float64       \n",
      " 3   area              52341 non-null  float64       \n",
      " 4   yearbuilt         52302 non-null  float64       \n",
      " 5   air_conditioning  13630 non-null  float64       \n",
      " 6   car_garage        18013 non-null  float64       \n",
      " 7   pool              11087 non-null  float64       \n",
      " 8   taxvalue          52340 non-null  float64       \n",
      " 9   county            52341 non-null  float64       \n",
      " 10  transactiondate   52341 non-null  datetime64[ns]\n",
      "dtypes: datetime64[ns](1), float64(9), int64(1)\n",
      "memory usage: 4.8 MB\n"
     ]
    }
   ],
   "source": [
    "df=df[(df.bathrooms<11) & (df.bedrooms<9) &(df.area<18_000)]\n",
    "df.info()"
   ]
  },
  {
   "cell_type": "code",
   "execution_count": 10,
   "id": "0f66e88a-327c-4cdd-818c-266ae8f2cb98",
   "metadata": {},
   "outputs": [],
   "source": [
    "county_map = {6037: 'LA', 6059: 'Orange', 6111: 'Ventura'}\n",
    "df.county = df.county.map(county_map)\n",
    "dummy_df = pd.get_dummies(df['county'])\n",
    "df = pd.concat( [df,dummy_df], axis=1 )"
   ]
  },
  {
   "cell_type": "code",
   "execution_count": 11,
   "id": "6a0a4e9e-c4b3-4417-b155-a464470ad11e",
   "metadata": {
    "tags": []
   },
   "outputs": [
    {
     "data": {
      "text/html": [
       "<div>\n",
       "<style scoped>\n",
       "    .dataframe tbody tr th:only-of-type {\n",
       "        vertical-align: middle;\n",
       "    }\n",
       "\n",
       "    .dataframe tbody tr th {\n",
       "        vertical-align: top;\n",
       "    }\n",
       "\n",
       "    .dataframe thead th {\n",
       "        text-align: right;\n",
       "    }\n",
       "</style>\n",
       "<table border=\"1\" class=\"dataframe\">\n",
       "  <thead>\n",
       "    <tr style=\"text-align: right;\">\n",
       "      <th></th>\n",
       "      <th>parcelid</th>\n",
       "      <th>bathrooms</th>\n",
       "      <th>bedrooms</th>\n",
       "      <th>area</th>\n",
       "      <th>yearbuilt</th>\n",
       "      <th>air_conditioning</th>\n",
       "      <th>car_garage</th>\n",
       "      <th>pool</th>\n",
       "      <th>taxvalue</th>\n",
       "      <th>county</th>\n",
       "      <th>transactiondate</th>\n",
       "      <th>LA</th>\n",
       "      <th>Orange</th>\n",
       "      <th>Ventura</th>\n",
       "    </tr>\n",
       "  </thead>\n",
       "  <tbody>\n",
       "    <tr>\n",
       "      <th>0</th>\n",
       "      <td>17173851</td>\n",
       "      <td>2.0</td>\n",
       "      <td>4.0</td>\n",
       "      <td>1848.0</td>\n",
       "      <td>1952.0</td>\n",
       "      <td>NaN</td>\n",
       "      <td>NaN</td>\n",
       "      <td>NaN</td>\n",
       "      <td>64712.0</td>\n",
       "      <td>Ventura</td>\n",
       "      <td>2017-01-03</td>\n",
       "      <td>0</td>\n",
       "      <td>0</td>\n",
       "      <td>1</td>\n",
       "    </tr>\n",
       "    <tr>\n",
       "      <th>1</th>\n",
       "      <td>10821119</td>\n",
       "      <td>2.0</td>\n",
       "      <td>2.0</td>\n",
       "      <td>1430.0</td>\n",
       "      <td>1952.0</td>\n",
       "      <td>NaN</td>\n",
       "      <td>NaN</td>\n",
       "      <td>1.0</td>\n",
       "      <td>381638.0</td>\n",
       "      <td>LA</td>\n",
       "      <td>2017-01-03</td>\n",
       "      <td>1</td>\n",
       "      <td>0</td>\n",
       "      <td>0</td>\n",
       "    </tr>\n",
       "    <tr>\n",
       "      <th>2</th>\n",
       "      <td>11007640</td>\n",
       "      <td>2.0</td>\n",
       "      <td>3.0</td>\n",
       "      <td>1572.0</td>\n",
       "      <td>1976.0</td>\n",
       "      <td>1.0</td>\n",
       "      <td>NaN</td>\n",
       "      <td>NaN</td>\n",
       "      <td>305307.0</td>\n",
       "      <td>LA</td>\n",
       "      <td>2017-01-12</td>\n",
       "      <td>1</td>\n",
       "      <td>0</td>\n",
       "      <td>0</td>\n",
       "    </tr>\n",
       "    <tr>\n",
       "      <th>3</th>\n",
       "      <td>11457850</td>\n",
       "      <td>2.0</td>\n",
       "      <td>3.0</td>\n",
       "      <td>1412.0</td>\n",
       "      <td>1941.0</td>\n",
       "      <td>NaN</td>\n",
       "      <td>NaN</td>\n",
       "      <td>NaN</td>\n",
       "      <td>93146.0</td>\n",
       "      <td>LA</td>\n",
       "      <td>2017-01-11</td>\n",
       "      <td>1</td>\n",
       "      <td>0</td>\n",
       "      <td>0</td>\n",
       "    </tr>\n",
       "    <tr>\n",
       "      <th>4</th>\n",
       "      <td>12591550</td>\n",
       "      <td>2.0</td>\n",
       "      <td>3.0</td>\n",
       "      <td>1352.0</td>\n",
       "      <td>1959.0</td>\n",
       "      <td>NaN</td>\n",
       "      <td>NaN</td>\n",
       "      <td>NaN</td>\n",
       "      <td>482242.0</td>\n",
       "      <td>LA</td>\n",
       "      <td>2017-01-13</td>\n",
       "      <td>1</td>\n",
       "      <td>0</td>\n",
       "      <td>0</td>\n",
       "    </tr>\n",
       "  </tbody>\n",
       "</table>\n",
       "</div>"
      ],
      "text/plain": [
       "   parcelid  bathrooms  bedrooms    area  yearbuilt  air_conditioning  \\\n",
       "0  17173851        2.0       4.0  1848.0     1952.0               NaN   \n",
       "1  10821119        2.0       2.0  1430.0     1952.0               NaN   \n",
       "2  11007640        2.0       3.0  1572.0     1976.0               1.0   \n",
       "3  11457850        2.0       3.0  1412.0     1941.0               NaN   \n",
       "4  12591550        2.0       3.0  1352.0     1959.0               NaN   \n",
       "\n",
       "   car_garage  pool  taxvalue   county transactiondate  LA  Orange  Ventura  \n",
       "0         NaN   NaN   64712.0  Ventura      2017-01-03   0       0        1  \n",
       "1         NaN   1.0  381638.0       LA      2017-01-03   1       0        0  \n",
       "2         NaN   NaN  305307.0       LA      2017-01-12   1       0        0  \n",
       "3         NaN   NaN   93146.0       LA      2017-01-11   1       0        0  \n",
       "4         NaN   NaN  482242.0       LA      2017-01-13   1       0        0  "
      ]
     },
     "execution_count": 11,
     "metadata": {},
     "output_type": "execute_result"
    }
   ],
   "source": [
    "df.head()"
   ]
  },
  {
   "cell_type": "code",
   "execution_count": 12,
   "id": "9819dee4-4c64-49d5-a7aa-f75569d12645",
   "metadata": {},
   "outputs": [
    {
     "data": {
      "text/plain": [
       "1120.0    128\n",
       "1200.0    119\n",
       "1080.0    102\n",
       "1040.0     86\n",
       "936.0      86\n",
       "         ... \n",
       "5140.0      1\n",
       "366.0       1\n",
       "5917.0      1\n",
       "4571.0      1\n",
       "5097.0      1\n",
       "Name: area, Length: 4710, dtype: int64"
      ]
     },
     "execution_count": 12,
     "metadata": {},
     "output_type": "execute_result"
    }
   ],
   "source": [
    "df.area.value_counts()"
   ]
  },
  {
   "cell_type": "code",
   "execution_count": 13,
   "id": "9460a084-a757-40f3-8693-7c1fa4635737",
   "metadata": {},
   "outputs": [],
   "source": [
    "df.pool=df.pool.fillna(0)\n",
    "df.car_garage=df.car_garage.fillna(0)\n",
    "df.air_conditioning=df.air_conditioning.fillna(0)"
   ]
  },
  {
   "cell_type": "code",
   "execution_count": 14,
   "id": "d01a89ea-cae3-44f6-b395-78aaf23d28ee",
   "metadata": {},
   "outputs": [],
   "source": [
    "df=df.dropna(subset=['yearbuilt','taxvalue'])"
   ]
  },
  {
   "cell_type": "code",
   "execution_count": 15,
   "id": "63ebe96b-632a-4831-915a-8280811a3725",
   "metadata": {},
   "outputs": [
    {
     "data": {
      "text/plain": [
       "parcelid            0\n",
       "bathrooms           0\n",
       "bedrooms            0\n",
       "area                0\n",
       "yearbuilt           0\n",
       "air_conditioning    0\n",
       "car_garage          0\n",
       "pool                0\n",
       "taxvalue            0\n",
       "county              0\n",
       "transactiondate     0\n",
       "LA                  0\n",
       "Orange              0\n",
       "Ventura             0\n",
       "dtype: int64"
      ]
     },
     "execution_count": 15,
     "metadata": {},
     "output_type": "execute_result"
    }
   ],
   "source": [
    "df.isnull().sum()"
   ]
  },
  {
   "cell_type": "code",
   "execution_count": 16,
   "id": "1ebbf264",
   "metadata": {},
   "outputs": [
    {
     "data": {
      "text/plain": [
       "0.0     34377\n",
       "2.0     14785\n",
       "1.0      2199\n",
       "3.0       618\n",
       "4.0       252\n",
       "5.0        45\n",
       "6.0        12\n",
       "7.0         3\n",
       "10.0        3\n",
       "8.0         2\n",
       "9.0         2\n",
       "11.0        1\n",
       "13.0        1\n",
       "14.0        1\n",
       "Name: car_garage, dtype: int64"
      ]
     },
     "execution_count": 16,
     "metadata": {},
     "output_type": "execute_result"
    }
   ],
   "source": [
    "df.car_garage.value_counts()"
   ]
  },
  {
   "cell_type": "code",
   "execution_count": 54,
   "id": "94c3b0df",
   "metadata": {},
   "outputs": [],
   "source": [
    "df['car_garage']=df.car_garage*1"
   ]
  },
  {
   "cell_type": "code",
   "execution_count": 55,
   "id": "eaa689f2",
   "metadata": {},
   "outputs": [
    {
     "data": {
      "text/plain": [
       "0    38672\n",
       "1    13629\n",
       "Name: air_conditioning, dtype: int64"
      ]
     },
     "execution_count": 55,
     "metadata": {},
     "output_type": "execute_result"
    }
   ],
   "source": [
    "df.air_conditioning.value_counts()"
   ]
  },
  {
   "cell_type": "code",
   "execution_count": 38,
   "id": "93c052a7",
   "metadata": {},
   "outputs": [],
   "source": [
    "df=df.drop(columns=['air_condtinioning'])\n",
    "df['air_conditioning']=df.air_conditioning.astype(bool)*1"
   ]
  },
  {
   "cell_type": "code",
   "execution_count": 39,
   "id": "b3a36f8c",
   "metadata": {},
   "outputs": [
    {
     "name": "stdout",
     "output_type": "stream",
     "text": [
      "<class 'pandas.core.frame.DataFrame'>\n",
      "Int64Index: 52301 entries, 0 to 2152982\n",
      "Data columns (total 14 columns):\n",
      " #   Column            Non-Null Count  Dtype         \n",
      "---  ------            --------------  -----         \n",
      " 0   parcelid          52301 non-null  int64         \n",
      " 1   bathrooms         52301 non-null  float64       \n",
      " 2   bedrooms          52301 non-null  float64       \n",
      " 3   area              52301 non-null  float64       \n",
      " 4   yearbuilt         52301 non-null  float64       \n",
      " 5   air_conditioning  52301 non-null  int64         \n",
      " 6   car_garage        52301 non-null  bool          \n",
      " 7   pool              52301 non-null  float64       \n",
      " 8   taxvalue          52301 non-null  float64       \n",
      " 9   county            52301 non-null  object        \n",
      " 10  transactiondate   52301 non-null  datetime64[ns]\n",
      " 11  LA                52301 non-null  uint8         \n",
      " 12  Orange            52301 non-null  uint8         \n",
      " 13  Ventura           52301 non-null  uint8         \n",
      "dtypes: bool(1), datetime64[ns](1), float64(6), int64(2), object(1), uint8(3)\n",
      "memory usage: 4.6+ MB\n"
     ]
    }
   ],
   "source": [
    "df.info()"
   ]
  },
  {
   "cell_type": "code",
   "execution_count": 41,
   "id": "b46935b5",
   "metadata": {},
   "outputs": [
    {
     "data": {
      "text/plain": [
       "0    38672\n",
       "1    13629\n",
       "Name: air_conditioning, dtype: int64"
      ]
     },
     "execution_count": 41,
     "metadata": {},
     "output_type": "execute_result"
    }
   ],
   "source": [
    "df.air_conditioning.value_counts()"
   ]
  },
  {
   "cell_type": "markdown",
   "id": "c0a5c961-8ae6-49dd-8302-fdb585ae8507",
   "metadata": {
    "tags": []
   },
   "source": [
    "## Correlation\n"
   ]
  },
  {
   "cell_type": "code",
   "execution_count": 56,
   "id": "3c81fa84-1590-4726-8861-deb07a3f9856",
   "metadata": {},
   "outputs": [],
   "source": [
    "from sklearn.model_selection import train_test_split\n",
    "def split_data(df):\n",
    "    # Split into train_validate and test sets\n",
    "    train_validate, test = train_test_split(df, test_size=.2, random_state=123)\n",
    "\n",
    "    # Split into train and validate sets\n",
    "    train, validate = train_test_split(train_validate, test_size=.25, random_state=123)\n",
    "\n",
    "    return train, validate, test"
   ]
  },
  {
   "cell_type": "code",
   "execution_count": 57,
   "id": "8f728925-ac6c-494c-b06f-88446cae3cc9",
   "metadata": {},
   "outputs": [],
   "source": [
    "\n",
    "train,test,validate=split_data(df)"
   ]
  },
  {
   "cell_type": "code",
   "execution_count": 47,
   "id": "130f7fd3-f599-4d7a-bfc4-71b963cf2cf0",
   "metadata": {},
   "outputs": [],
   "source": [
    "target_var = 'taxvalue'\n",
    "feat_vars = ['bedrooms', 'bathrooms', 'yearbuilt','county','pool','car_garage','air_conditioning']\n",
    "def plot_correlations(df, target_var, feat_vars):\n",
    "    # Calculate correlations between feature variables and target variable\n",
    "    correlations = df[feat_vars].corrwith(df[target_var]).sort_values()\n",
    "   # Create a bar chart to visualize correlations\n",
    "    plt.figure(figsize=(10,6))\n",
    "    plt.barh(correlations.index, correlations.values)\n",
    "    plt.xlabel('Target Variable')\n",
    "    plt.title('Feature Variable Correlations with Target Variable')\n",
    "    plt.show()"
   ]
  },
  {
   "cell_type": "code",
   "execution_count": 48,
   "id": "9be69f1e-eb85-45be-90a6-bb7553a19e9c",
   "metadata": {},
   "outputs": [
    {
     "data": {
      "image/png": "[encoded data removed]",
      "text/plain": [
       "<Figure size 1000x600 with 1 Axes>"
      ]
     },
     "metadata": {},
     "output_type": "display_data"
    }
   ],
   "source": [
    "plot_correlations(train, target_var, feat_vars)"
   ]
  },
  {
   "cell_type": "code",
   "execution_count": 49,
   "id": "22efec1e-c27b-4ef7-b0c7-2ef8e1f1fd02",
   "metadata": {},
   "outputs": [],
   "source": [
    "import scipy.stats as stats\n",
    "import statsmodels.formula.api as smf\n",
    "from scipy.stats import ttest_1samp, ttest_ind,f_oneway\n",
    "def test_relationships(df, cat_var, cont_vars):\n",
    "    # One-sample t-test for each continuous variable against the population mean\n",
    "    for var in cont_vars:\n",
    "        t_stat, p_value = ttest_1samp(df[var], df[var].mean())\n",
    "        print(f'One-sample t-test for {var}: t={t_stat:.4f}, p={p_value:.4f}')\n",
    "\n",
    "    # Independent t-test for each continuous variable between the two categories in the categorical variable\n",
    "    for var in cont_vars:\n",
    "        for cat in df[cat_var].unique():\n",
    "            group1 = df[df[cat_var] == cat][var]\n",
    "            group2 = df[df[cat_var] != cat][var]\n",
    "            t_stat, p_value = ttest_ind(group1, group2)\n",
    "            print(f'Independent t-test for {var} between {cat} and not {cat}: t={t_stat:.4f}, p={p_value:.4f}')\n",
    "\n",
    "  # One-way ANOVA \n",
    "    for var in cont_vars:\n",
    "        groups = [df[df[cat_var] == cat][var] for cat in df[cat_var].unique()]\n",
    "        f_stat, p_value = f_oneway(*groups)\n",
    "        print(f'One-way ANOVA for {var} by {cat_var}: F={f_stat:.4f}, p={p_value:.4f}')"
   ]
  },
  {
   "cell_type": "code",
   "execution_count": 50,
   "id": "e96c1d15-dadc-497a-ae74-f3667db58d1d",
   "metadata": {},
   "outputs": [],
   "source": [
    "cat_var = 'county'\n",
    "cont_vars = ['yearbuilt','pool','car_garage','air_conditioning']"
   ]
  },
  {
   "cell_type": "markdown",
   "id": "564972a5-b62c-4807-8aa6-f17f5b7f24e1",
   "metadata": {},
   "source": [
    "## Hypothesis"
   ]
  },
  {
   "cell_type": "markdown",
   "id": "ffb4bf65",
   "metadata": {},
   "source": [
    "### 1. Having a pool affect tax value amount?"
   ]
  },
  {
   "cell_type": "code",
   "execution_count": 25,
   "id": "fcfce9ff-da35-42cb-a5e9-583f7fa08217",
   "metadata": {},
   "outputs": [],
   "source": [
    "def plot_categorical_and_continuous_vars(df, cat_var, cont_var):\n",
    "    for var in cont_var:\n",
    "        # Create a box plot\n",
    "        plt.figure(figsize=(12, 6))\n",
    "        sns.boxplot(x=cat_var, y=var, data=df)\n",
    "        plt.axhline(y=df[var].mean(), color='r', linestyle='--')\n",
    "        plt.xlabel(cat_var)\n",
    "        plt.ylabel(var)\n",
    "        plt.title(f'{cat_var} vs. {var}')\n",
    "        plt.show()\n",
    "\n",
    "        # Create a violin plot\n",
    "        plt.figure(figsize=(12, 6))\n",
    "        sns.violinplot(x=cat_var, y=var, data=df)\n",
    "        plt.axhline(y=df[var].mean(), color='r', linestyle='--')\n",
    "        plt.xlabel(cat_var)\n",
    "        plt.ylabel(var)\n",
    "        plt.title(f'{cat_var} vs. {var}')\n",
    "        plt.show()\n",
    "\n",
    "        # Create a swarm plot\n",
    "        plt.figure(figsize=(12, 6))\n",
    "        sns.swarmplot(x=cat_var, y=var, data=df)\n",
    "        plt.axhline(y=df[var].mean(), color='r', linestyle='--')\n",
    "        plt.xlabel(cat_var)\n",
    "        plt.ylabel(var)\n",
    "        plt.title(f'{cat_var} vs. {var}')\n",
    "        plt.show()\n"
   ]
  },
  {
   "cell_type": "code",
   "execution_count": 51,
   "id": "04a66fc3-ab06-4638-a5c1-eaa5a9147025",
   "metadata": {},
   "outputs": [],
   "source": [
    "cat_var = 'pool'\n",
    "cont_vars = ['taxvalue']"
   ]
  },
  {
   "cell_type": "code",
   "execution_count": 52,
   "id": "1be9117b-511f-49f4-88df-6a47425805fe",
   "metadata": {},
   "outputs": [
    {
     "data": {
      "image/png": "[encoded data removed]",
      "text/plain": [
       "<Figure size 1200x600 with 1 Axes>"
      ]
     },
     "metadata": {},
     "output_type": "display_data"
    },
    {
     "data": {
      "image/png": "[encoded data removed]",
      "text/plain": [
       "<Figure size 1200x600 with 1 Axes>"
      ]
     },
     "metadata": {},
     "output_type": "display_data"
    },
    {
     "ename": "KeyboardInterrupt",
     "evalue": "",
     "output_type": "error",
     "traceback": [
      "\u001b[0;31m---------------------------------------------------------------------------\u001b[0m",
      "\u001b[0;31mKeyboardInterrupt\u001b[0m                         Traceback (most recent call last)",
      "\u001b[0;32m/var/folders/wd/5_z1tvw94pv9x2ld8p_0dl2r0000gn/T/ipykernel_24379/2128935678.py\u001b[0m in \u001b[0;36m<module>\u001b[0;34m\u001b[0m\n\u001b[0;32m----> 1\u001b[0;31m \u001b[0mplot_categorical_and_continuous_vars\u001b[0m\u001b[0;34m(\u001b[0m\u001b[0mtrain\u001b[0m\u001b[0;34m,\u001b[0m\u001b[0mcat_var\u001b[0m\u001b[0;34m,\u001b[0m\u001b[0mcont_vars\u001b[0m\u001b[0;34m)\u001b[0m\u001b[0;34m\u001b[0m\u001b[0;34m\u001b[0m\u001b[0m\n\u001b[0m",
      "\u001b[0;32m/var/folders/wd/5_z1tvw94pv9x2ld8p_0dl2r0000gn/T/ipykernel_24379/2293644355.py\u001b[0m in \u001b[0;36mplot_categorical_and_continuous_vars\u001b[0;34m(df, cat_var, cont_var)\u001b[0m\n\u001b[1;32m     21\u001b[0m         \u001b[0;31m# Create a swarm plot\u001b[0m\u001b[0;34m\u001b[0m\u001b[0;34m\u001b[0m\u001b[0m\n\u001b[1;32m     22\u001b[0m         \u001b[0mplt\u001b[0m\u001b[0;34m.\u001b[0m\u001b[0mfigure\u001b[0m\u001b[0;34m(\u001b[0m\u001b[0mfigsize\u001b[0m\u001b[0;34m=\u001b[0m\u001b[0;34m(\u001b[0m\u001b[0;36m12\u001b[0m\u001b[0;34m,\u001b[0m \u001b[0;36m6\u001b[0m\u001b[0;34m)\u001b[0m\u001b[0;34m)\u001b[0m\u001b[0;34m\u001b[0m\u001b[0;34m\u001b[0m\u001b[0m\n\u001b[0;32m---> 23\u001b[0;31m         \u001b[0msns\u001b[0m\u001b[0;34m.\u001b[0m\u001b[0mswarmplot\u001b[0m\u001b[0;34m(\u001b[0m\u001b[0mx\u001b[0m\u001b[0;34m=\u001b[0m\u001b[0mcat_var\u001b[0m\u001b[0;34m,\u001b[0m \u001b[0my\u001b[0m\u001b[0;34m=\u001b[0m\u001b[0mvar\u001b[0m\u001b[0;34m,\u001b[0m \u001b[0mdata\u001b[0m\u001b[0;34m=\u001b[0m\u001b[0mdf\u001b[0m\u001b[0;34m)\u001b[0m\u001b[0;34m\u001b[0m\u001b[0;34m\u001b[0m\u001b[0m\n\u001b[0m\u001b[1;32m     24\u001b[0m         \u001b[0mplt\u001b[0m\u001b[0;34m.\u001b[0m\u001b[0maxhline\u001b[0m\u001b[0;34m(\u001b[0m\u001b[0my\u001b[0m\u001b[0;34m=\u001b[0m\u001b[0mdf\u001b[0m\u001b[0;34m[\u001b[0m\u001b[0mvar\u001b[0m\u001b[0;34m]\u001b[0m\u001b[0;34m.\u001b[0m\u001b[0mmean\u001b[0m\u001b[0;34m(\u001b[0m\u001b[0;34m)\u001b[0m\u001b[0;34m,\u001b[0m \u001b[0mcolor\u001b[0m\u001b[0;34m=\u001b[0m\u001b[0;34m'r'\u001b[0m\u001b[0;34m,\u001b[0m \u001b[0mlinestyle\u001b[0m\u001b[0;34m=\u001b[0m\u001b[0;34m'--'\u001b[0m\u001b[0;34m)\u001b[0m\u001b[0;34m\u001b[0m\u001b[0;34m\u001b[0m\u001b[0m\n\u001b[1;32m     25\u001b[0m         \u001b[0mplt\u001b[0m\u001b[0;34m.\u001b[0m\u001b[0mxlabel\u001b[0m\u001b[0;34m(\u001b[0m\u001b[0mcat_var\u001b[0m\u001b[0;34m)\u001b[0m\u001b[0;34m\u001b[0m\u001b[0;34m\u001b[0m\u001b[0m\n",
      "\u001b[0;32m/usr/local/anaconda3/lib/python3.9/site-packages/seaborn/_decorators.py\u001b[0m in \u001b[0;36minner_f\u001b[0;34m(*args, **kwargs)\u001b[0m\n\u001b[1;32m     44\u001b[0m             )\n\u001b[1;32m     45\u001b[0m         \u001b[0mkwargs\u001b[0m\u001b[0;34m.\u001b[0m\u001b[0mupdate\u001b[0m\u001b[0;34m(\u001b[0m\u001b[0;34m{\u001b[0m\u001b[0mk\u001b[0m\u001b[0;34m:\u001b[0m \u001b[0marg\u001b[0m \u001b[0;32mfor\u001b[0m \u001b[0mk\u001b[0m\u001b[0;34m,\u001b[0m \u001b[0marg\u001b[0m \u001b[0;32min\u001b[0m \u001b[0mzip\u001b[0m\u001b[0;34m(\u001b[0m\u001b[0msig\u001b[0m\u001b[0;34m.\u001b[0m\u001b[0mparameters\u001b[0m\u001b[0;34m,\u001b[0m \u001b[0margs\u001b[0m\u001b[0;34m)\u001b[0m\u001b[0;34m}\u001b[0m\u001b[0;34m)\u001b[0m\u001b[0;34m\u001b[0m\u001b[0;34m\u001b[0m\u001b[0m\n\u001b[0;32m---> 46\u001b[0;31m         \u001b[0;32mreturn\u001b[0m \u001b[0mf\u001b[0m\u001b[0;34m(\u001b[0m\u001b[0;34m**\u001b[0m\u001b[0mkwargs\u001b[0m\u001b[0;34m)\u001b[0m\u001b[0;34m\u001b[0m\u001b[0;34m\u001b[0m\u001b[0m\n\u001b[0m\u001b[1;32m     47\u001b[0m     \u001b[0;32mreturn\u001b[0m \u001b[0minner_f\u001b[0m\u001b[0;34m\u001b[0m\u001b[0;34m\u001b[0m\u001b[0m\n\u001b[1;32m     48\u001b[0m \u001b[0;34m\u001b[0m\u001b[0m\n",
      "\u001b[0;32m/usr/local/anaconda3/lib/python3.9/site-packages/seaborn/categorical.py\u001b[0m in \u001b[0;36mswarmplot\u001b[0;34m(x, y, hue, data, order, hue_order, dodge, orient, color, palette, size, edgecolor, linewidth, ax, **kwargs)\u001b[0m\n\u001b[1;32m   3017\u001b[0m                        linewidth=linewidth))\n\u001b[1;32m   3018\u001b[0m \u001b[0;34m\u001b[0m\u001b[0m\n\u001b[0;32m-> 3019\u001b[0;31m     \u001b[0mplotter\u001b[0m\u001b[0;34m.\u001b[0m\u001b[0mplot\u001b[0m\u001b[0;34m(\u001b[0m\u001b[0max\u001b[0m\u001b[0;34m,\u001b[0m \u001b[0mkwargs\u001b[0m\u001b[0;34m)\u001b[0m\u001b[0;34m\u001b[0m\u001b[0;34m\u001b[0m\u001b[0m\n\u001b[0m\u001b[1;32m   3020\u001b[0m     \u001b[0;32mreturn\u001b[0m \u001b[0max\u001b[0m\u001b[0;34m\u001b[0m\u001b[0;34m\u001b[0m\u001b[0m\n\u001b[1;32m   3021\u001b[0m \u001b[0;34m\u001b[0m\u001b[0m\n",
      "\u001b[0;32m/usr/local/anaconda3/lib/python3.9/site-packages/seaborn/categorical.py\u001b[0m in \u001b[0;36mplot\u001b[0;34m(self, ax, kws)\u001b[0m\n\u001b[1;32m   1418\u001b[0m     \u001b[0;32mdef\u001b[0m \u001b[0mplot\u001b[0m\u001b[0;34m(\u001b[0m\u001b[0mself\u001b[0m\u001b[0;34m,\u001b[0m \u001b[0max\u001b[0m\u001b[0;34m,\u001b[0m \u001b[0mkws\u001b[0m\u001b[0;34m)\u001b[0m\u001b[0;34m:\u001b[0m\u001b[0;34m\u001b[0m\u001b[0;34m\u001b[0m\u001b[0m\n\u001b[1;32m   1419\u001b[0m         \u001b[0;34m\"\"\"Make the full plot.\"\"\"\u001b[0m\u001b[0;34m\u001b[0m\u001b[0;34m\u001b[0m\u001b[0m\n\u001b[0;32m-> 1420\u001b[0;31m         \u001b[0mself\u001b[0m\u001b[0;34m.\u001b[0m\u001b[0mdraw_swarmplot\u001b[0m\u001b[0;34m(\u001b[0m\u001b[0max\u001b[0m\u001b[0;34m,\u001b[0m \u001b[0mkws\u001b[0m\u001b[0;34m)\u001b[0m\u001b[0;34m\u001b[0m\u001b[0;34m\u001b[0m\u001b[0m\n\u001b[0m\u001b[1;32m   1421\u001b[0m         \u001b[0mself\u001b[0m\u001b[0;34m.\u001b[0m\u001b[0madd_legend_data\u001b[0m\u001b[0;34m(\u001b[0m\u001b[0max\u001b[0m\u001b[0;34m)\u001b[0m\u001b[0;34m\u001b[0m\u001b[0;34m\u001b[0m\u001b[0m\n\u001b[1;32m   1422\u001b[0m         \u001b[0mself\u001b[0m\u001b[0;34m.\u001b[0m\u001b[0mannotate_axes\u001b[0m\u001b[0;34m(\u001b[0m\u001b[0max\u001b[0m\u001b[0;34m)\u001b[0m\u001b[0;34m\u001b[0m\u001b[0;34m\u001b[0m\u001b[0m\n",
      "\u001b[0;32m/usr/local/anaconda3/lib/python3.9/site-packages/seaborn/categorical.py\u001b[0m in \u001b[0;36mdraw_swarmplot\u001b[0;34m(self, ax, kws)\u001b[0m\n\u001b[1;32m   1414\u001b[0m         \u001b[0;32mfor\u001b[0m \u001b[0mcenter\u001b[0m\u001b[0;34m,\u001b[0m \u001b[0mswarm\u001b[0m \u001b[0;32min\u001b[0m \u001b[0mzip\u001b[0m\u001b[0;34m(\u001b[0m\u001b[0mcenters\u001b[0m\u001b[0;34m,\u001b[0m \u001b[0mswarms\u001b[0m\u001b[0;34m)\u001b[0m\u001b[0;34m:\u001b[0m\u001b[0;34m\u001b[0m\u001b[0;34m\u001b[0m\u001b[0m\n\u001b[1;32m   1415\u001b[0m             \u001b[0;32mif\u001b[0m \u001b[0mswarm\u001b[0m\u001b[0;34m.\u001b[0m\u001b[0mget_offsets\u001b[0m\u001b[0;34m(\u001b[0m\u001b[0;34m)\u001b[0m\u001b[0;34m.\u001b[0m\u001b[0msize\u001b[0m\u001b[0;34m:\u001b[0m\u001b[0;34m\u001b[0m\u001b[0;34m\u001b[0m\u001b[0m\n\u001b[0;32m-> 1416\u001b[0;31m                 \u001b[0mself\u001b[0m\u001b[0;34m.\u001b[0m\u001b[0mswarm_points\u001b[0m\u001b[0;34m(\u001b[0m\u001b[0max\u001b[0m\u001b[0;34m,\u001b[0m \u001b[0mswarm\u001b[0m\u001b[0;34m,\u001b[0m \u001b[0mcenter\u001b[0m\u001b[0;34m,\u001b[0m \u001b[0mwidth\u001b[0m\u001b[0;34m,\u001b[0m \u001b[0ms\u001b[0m\u001b[0;34m,\u001b[0m \u001b[0;34m**\u001b[0m\u001b[0mkws\u001b[0m\u001b[0;34m)\u001b[0m\u001b[0;34m\u001b[0m\u001b[0;34m\u001b[0m\u001b[0m\n\u001b[0m\u001b[1;32m   1417\u001b[0m \u001b[0;34m\u001b[0m\u001b[0m\n\u001b[1;32m   1418\u001b[0m     \u001b[0;32mdef\u001b[0m \u001b[0mplot\u001b[0m\u001b[0;34m(\u001b[0m\u001b[0mself\u001b[0m\u001b[0;34m,\u001b[0m \u001b[0max\u001b[0m\u001b[0;34m,\u001b[0m \u001b[0mkws\u001b[0m\u001b[0;34m)\u001b[0m\u001b[0;34m:\u001b[0m\u001b[0;34m\u001b[0m\u001b[0;34m\u001b[0m\u001b[0m\n",
      "\u001b[0;32m/usr/local/anaconda3/lib/python3.9/site-packages/seaborn/categorical.py\u001b[0m in \u001b[0;36mswarm_points\u001b[0;34m(self, ax, points, center, width, s, **kws)\u001b[0m\n\u001b[1;32m   1316\u001b[0m \u001b[0;34m\u001b[0m\u001b[0m\n\u001b[1;32m   1317\u001b[0m         \u001b[0;31m# Do the beeswarm in point coordinates\u001b[0m\u001b[0;34m\u001b[0m\u001b[0;34m\u001b[0m\u001b[0m\n\u001b[0;32m-> 1318\u001b[0;31m         \u001b[0mnew_xy\u001b[0m \u001b[0;34m=\u001b[0m \u001b[0mself\u001b[0m\u001b[0;34m.\u001b[0m\u001b[0mbeeswarm\u001b[0m\u001b[0;34m(\u001b[0m\u001b[0morig_xy\u001b[0m\u001b[0;34m,\u001b[0m \u001b[0md\u001b[0m\u001b[0;34m)\u001b[0m\u001b[0;34m\u001b[0m\u001b[0;34m\u001b[0m\u001b[0m\n\u001b[0m\u001b[1;32m   1319\u001b[0m \u001b[0;34m\u001b[0m\u001b[0m\n\u001b[1;32m   1320\u001b[0m         \u001b[0;31m# Transform the point coordinates back to data coordinates\u001b[0m\u001b[0;34m\u001b[0m\u001b[0;34m\u001b[0m\u001b[0m\n",
      "\u001b[0;32m/usr/local/anaconda3/lib/python3.9/site-packages/seaborn/categorical.py\u001b[0m in \u001b[0;36mbeeswarm\u001b[0;34m(self, orig_xy, d)\u001b[0m\n\u001b[1;32m   1268\u001b[0m \u001b[0;34m\u001b[0m\u001b[0m\n\u001b[1;32m   1269\u001b[0m             \u001b[0;31m# Find the first candidate that does not overlap any neighbours\u001b[0m\u001b[0;34m\u001b[0m\u001b[0;34m\u001b[0m\u001b[0m\n\u001b[0;32m-> 1270\u001b[0;31m             new_xy_i = self.first_non_overlapping_candidate(candidates,\n\u001b[0m\u001b[1;32m   1271\u001b[0m                                                             neighbors, d)\n\u001b[1;32m   1272\u001b[0m \u001b[0;34m\u001b[0m\u001b[0m\n",
      "\u001b[0;32m/usr/local/anaconda3/lib/python3.9/site-packages/seaborn/categorical.py\u001b[0m in \u001b[0;36mfirst_non_overlapping_candidate\u001b[0;34m(self, candidates, neighbors, d)\u001b[0m\n\u001b[1;32m   1227\u001b[0m             \u001b[0mdy\u001b[0m \u001b[0;34m=\u001b[0m \u001b[0mneighbors_y\u001b[0m \u001b[0;34m-\u001b[0m \u001b[0my_i\u001b[0m\u001b[0;34m\u001b[0m\u001b[0;34m\u001b[0m\u001b[0m\n\u001b[1;32m   1228\u001b[0m \u001b[0;34m\u001b[0m\u001b[0m\n\u001b[0;32m-> 1229\u001b[0;31m             \u001b[0msq_distances\u001b[0m \u001b[0;34m=\u001b[0m \u001b[0mnp\u001b[0m\u001b[0;34m.\u001b[0m\u001b[0mpower\u001b[0m\u001b[0;34m(\u001b[0m\u001b[0mdx\u001b[0m\u001b[0;34m,\u001b[0m \u001b[0;36m2.0\u001b[0m\u001b[0;34m)\u001b[0m \u001b[0;34m+\u001b[0m \u001b[0mnp\u001b[0m\u001b[0;34m.\u001b[0m\u001b[0mpower\u001b[0m\u001b[0;34m(\u001b[0m\u001b[0mdy\u001b[0m\u001b[0;34m,\u001b[0m \u001b[0;36m2.0\u001b[0m\u001b[0;34m)\u001b[0m\u001b[0;34m\u001b[0m\u001b[0;34m\u001b[0m\u001b[0m\n\u001b[0m\u001b[1;32m   1230\u001b[0m \u001b[0;34m\u001b[0m\u001b[0m\n\u001b[1;32m   1231\u001b[0m             \u001b[0;31m# good candidate does not overlap any of neighbors\u001b[0m\u001b[0;34m\u001b[0m\u001b[0;34m\u001b[0m\u001b[0m\n",
      "\u001b[0;31mKeyboardInterrupt\u001b[0m: "
     ]
    },
    {
     "data": {
      "image/png": "[encoded data removed]",
      "text/plain": [
       "<Figure size 1200x600 with 1 Axes>"
      ]
     },
     "metadata": {},
     "output_type": "display_data"
    }
   ],
   "source": [
    "plot_categorical_and_continuous_vars(train,cat_var,cont_vars)"
   ]
  },
  {
   "cell_type": "code",
   "execution_count": null,
   "id": "97d7b0d6-6ee0-4baf-8e6f-72878a49a0d1",
   "metadata": {},
   "outputs": [],
   "source": [
    "test_relationships(train,cat_var,cont_vars)"
   ]
  },
  {
   "cell_type": "code",
   "execution_count": 58,
   "id": "1bfaa868",
   "metadata": {},
   "outputs": [
    {
     "data": {
      "image/png": "[encoded data removed]",
      "text/plain": [
       "<Figure size 1200x600 with 1 Axes>"
      ]
     },
     "metadata": {},
     "output_type": "display_data"
    },
    {
     "data": {
      "image/png": "[encoded data removed]",
      "text/plain": [
       "<Figure size 1200x600 with 1 Axes>"
      ]
     },
     "metadata": {},
     "output_type": "display_data"
    },
    {
     "ename": "KeyboardInterrupt",
     "evalue": "",
     "output_type": "error",
     "traceback": [
      "\u001b[0;31m---------------------------------------------------------------------------\u001b[0m",
      "\u001b[0;31mKeyboardInterrupt\u001b[0m                         Traceback (most recent call last)",
      "\u001b[0;32m/var/folders/wd/5_z1tvw94pv9x2ld8p_0dl2r0000gn/T/ipykernel_24379/3044844697.py\u001b[0m in \u001b[0;36m<module>\u001b[0;34m\u001b[0m\n\u001b[1;32m      2\u001b[0m \u001b[0;34m\u001b[0m\u001b[0m\n\u001b[1;32m      3\u001b[0m \u001b[0mcont_vars\u001b[0m \u001b[0;34m=\u001b[0m \u001b[0;34m[\u001b[0m\u001b[0;34m'taxvalue'\u001b[0m\u001b[0;34m]\u001b[0m\u001b[0;34m\u001b[0m\u001b[0;34m\u001b[0m\u001b[0m\n\u001b[0;32m----> 4\u001b[0;31m \u001b[0mplot_categorical_and_continuous_vars\u001b[0m\u001b[0;34m(\u001b[0m\u001b[0mtrain\u001b[0m\u001b[0;34m,\u001b[0m\u001b[0mcat_var\u001b[0m\u001b[0;34m,\u001b[0m\u001b[0mcont_vars\u001b[0m\u001b[0;34m)\u001b[0m\u001b[0;34m\u001b[0m\u001b[0;34m\u001b[0m\u001b[0m\n\u001b[0m",
      "\u001b[0;32m/var/folders/wd/5_z1tvw94pv9x2ld8p_0dl2r0000gn/T/ipykernel_24379/2293644355.py\u001b[0m in \u001b[0;36mplot_categorical_and_continuous_vars\u001b[0;34m(df, cat_var, cont_var)\u001b[0m\n\u001b[1;32m     21\u001b[0m         \u001b[0;31m# Create a swarm plot\u001b[0m\u001b[0;34m\u001b[0m\u001b[0;34m\u001b[0m\u001b[0m\n\u001b[1;32m     22\u001b[0m         \u001b[0mplt\u001b[0m\u001b[0;34m.\u001b[0m\u001b[0mfigure\u001b[0m\u001b[0;34m(\u001b[0m\u001b[0mfigsize\u001b[0m\u001b[0;34m=\u001b[0m\u001b[0;34m(\u001b[0m\u001b[0;36m12\u001b[0m\u001b[0;34m,\u001b[0m \u001b[0;36m6\u001b[0m\u001b[0;34m)\u001b[0m\u001b[0;34m)\u001b[0m\u001b[0;34m\u001b[0m\u001b[0;34m\u001b[0m\u001b[0m\n\u001b[0;32m---> 23\u001b[0;31m         \u001b[0msns\u001b[0m\u001b[0;34m.\u001b[0m\u001b[0mswarmplot\u001b[0m\u001b[0;34m(\u001b[0m\u001b[0mx\u001b[0m\u001b[0;34m=\u001b[0m\u001b[0mcat_var\u001b[0m\u001b[0;34m,\u001b[0m \u001b[0my\u001b[0m\u001b[0;34m=\u001b[0m\u001b[0mvar\u001b[0m\u001b[0;34m,\u001b[0m \u001b[0mdata\u001b[0m\u001b[0;34m=\u001b[0m\u001b[0mdf\u001b[0m\u001b[0;34m)\u001b[0m\u001b[0;34m\u001b[0m\u001b[0;34m\u001b[0m\u001b[0m\n\u001b[0m\u001b[1;32m     24\u001b[0m         \u001b[0mplt\u001b[0m\u001b[0;34m.\u001b[0m\u001b[0maxhline\u001b[0m\u001b[0;34m(\u001b[0m\u001b[0my\u001b[0m\u001b[0;34m=\u001b[0m\u001b[0mdf\u001b[0m\u001b[0;34m[\u001b[0m\u001b[0mvar\u001b[0m\u001b[0;34m]\u001b[0m\u001b[0;34m.\u001b[0m\u001b[0mmean\u001b[0m\u001b[0;34m(\u001b[0m\u001b[0;34m)\u001b[0m\u001b[0;34m,\u001b[0m \u001b[0mcolor\u001b[0m\u001b[0;34m=\u001b[0m\u001b[0;34m'r'\u001b[0m\u001b[0;34m,\u001b[0m \u001b[0mlinestyle\u001b[0m\u001b[0;34m=\u001b[0m\u001b[0;34m'--'\u001b[0m\u001b[0;34m)\u001b[0m\u001b[0;34m\u001b[0m\u001b[0;34m\u001b[0m\u001b[0m\n\u001b[1;32m     25\u001b[0m         \u001b[0mplt\u001b[0m\u001b[0;34m.\u001b[0m\u001b[0mxlabel\u001b[0m\u001b[0;34m(\u001b[0m\u001b[0mcat_var\u001b[0m\u001b[0;34m)\u001b[0m\u001b[0;34m\u001b[0m\u001b[0;34m\u001b[0m\u001b[0m\n",
      "\u001b[0;32m/usr/local/anaconda3/lib/python3.9/site-packages/seaborn/_decorators.py\u001b[0m in \u001b[0;36minner_f\u001b[0;34m(*args, **kwargs)\u001b[0m\n\u001b[1;32m     44\u001b[0m             )\n\u001b[1;32m     45\u001b[0m         \u001b[0mkwargs\u001b[0m\u001b[0;34m.\u001b[0m\u001b[0mupdate\u001b[0m\u001b[0;34m(\u001b[0m\u001b[0;34m{\u001b[0m\u001b[0mk\u001b[0m\u001b[0;34m:\u001b[0m \u001b[0marg\u001b[0m \u001b[0;32mfor\u001b[0m \u001b[0mk\u001b[0m\u001b[0;34m,\u001b[0m \u001b[0marg\u001b[0m \u001b[0;32min\u001b[0m \u001b[0mzip\u001b[0m\u001b[0;34m(\u001b[0m\u001b[0msig\u001b[0m\u001b[0;34m.\u001b[0m\u001b[0mparameters\u001b[0m\u001b[0;34m,\u001b[0m \u001b[0margs\u001b[0m\u001b[0;34m)\u001b[0m\u001b[0;34m}\u001b[0m\u001b[0;34m)\u001b[0m\u001b[0;34m\u001b[0m\u001b[0;34m\u001b[0m\u001b[0m\n\u001b[0;32m---> 46\u001b[0;31m         \u001b[0;32mreturn\u001b[0m \u001b[0mf\u001b[0m\u001b[0;34m(\u001b[0m\u001b[0;34m**\u001b[0m\u001b[0mkwargs\u001b[0m\u001b[0;34m)\u001b[0m\u001b[0;34m\u001b[0m\u001b[0;34m\u001b[0m\u001b[0m\n\u001b[0m\u001b[1;32m     47\u001b[0m     \u001b[0;32mreturn\u001b[0m \u001b[0minner_f\u001b[0m\u001b[0;34m\u001b[0m\u001b[0;34m\u001b[0m\u001b[0m\n\u001b[1;32m     48\u001b[0m \u001b[0;34m\u001b[0m\u001b[0m\n",
      "\u001b[0;32m/usr/local/anaconda3/lib/python3.9/site-packages/seaborn/categorical.py\u001b[0m in \u001b[0;36mswarmplot\u001b[0;34m(x, y, hue, data, order, hue_order, dodge, orient, color, palette, size, edgecolor, linewidth, ax, **kwargs)\u001b[0m\n\u001b[1;32m   3017\u001b[0m                        linewidth=linewidth))\n\u001b[1;32m   3018\u001b[0m \u001b[0;34m\u001b[0m\u001b[0m\n\u001b[0;32m-> 3019\u001b[0;31m     \u001b[0mplotter\u001b[0m\u001b[0;34m.\u001b[0m\u001b[0mplot\u001b[0m\u001b[0;34m(\u001b[0m\u001b[0max\u001b[0m\u001b[0;34m,\u001b[0m \u001b[0mkwargs\u001b[0m\u001b[0;34m)\u001b[0m\u001b[0;34m\u001b[0m\u001b[0;34m\u001b[0m\u001b[0m\n\u001b[0m\u001b[1;32m   3020\u001b[0m     \u001b[0;32mreturn\u001b[0m \u001b[0max\u001b[0m\u001b[0;34m\u001b[0m\u001b[0;34m\u001b[0m\u001b[0m\n\u001b[1;32m   3021\u001b[0m \u001b[0;34m\u001b[0m\u001b[0m\n",
      "\u001b[0;32m/usr/local/anaconda3/lib/python3.9/site-packages/seaborn/categorical.py\u001b[0m in \u001b[0;36mplot\u001b[0;34m(self, ax, kws)\u001b[0m\n\u001b[1;32m   1418\u001b[0m     \u001b[0;32mdef\u001b[0m \u001b[0mplot\u001b[0m\u001b[0;34m(\u001b[0m\u001b[0mself\u001b[0m\u001b[0;34m,\u001b[0m \u001b[0max\u001b[0m\u001b[0;34m,\u001b[0m \u001b[0mkws\u001b[0m\u001b[0;34m)\u001b[0m\u001b[0;34m:\u001b[0m\u001b[0;34m\u001b[0m\u001b[0;34m\u001b[0m\u001b[0m\n\u001b[1;32m   1419\u001b[0m         \u001b[0;34m\"\"\"Make the full plot.\"\"\"\u001b[0m\u001b[0;34m\u001b[0m\u001b[0;34m\u001b[0m\u001b[0m\n\u001b[0;32m-> 1420\u001b[0;31m         \u001b[0mself\u001b[0m\u001b[0;34m.\u001b[0m\u001b[0mdraw_swarmplot\u001b[0m\u001b[0;34m(\u001b[0m\u001b[0max\u001b[0m\u001b[0;34m,\u001b[0m \u001b[0mkws\u001b[0m\u001b[0;34m)\u001b[0m\u001b[0;34m\u001b[0m\u001b[0;34m\u001b[0m\u001b[0m\n\u001b[0m\u001b[1;32m   1421\u001b[0m         \u001b[0mself\u001b[0m\u001b[0;34m.\u001b[0m\u001b[0madd_legend_data\u001b[0m\u001b[0;34m(\u001b[0m\u001b[0max\u001b[0m\u001b[0;34m)\u001b[0m\u001b[0;34m\u001b[0m\u001b[0;34m\u001b[0m\u001b[0m\n\u001b[1;32m   1422\u001b[0m         \u001b[0mself\u001b[0m\u001b[0;34m.\u001b[0m\u001b[0mannotate_axes\u001b[0m\u001b[0;34m(\u001b[0m\u001b[0max\u001b[0m\u001b[0;34m)\u001b[0m\u001b[0;34m\u001b[0m\u001b[0;34m\u001b[0m\u001b[0m\n",
      "\u001b[0;32m/usr/local/anaconda3/lib/python3.9/site-packages/seaborn/categorical.py\u001b[0m in \u001b[0;36mdraw_swarmplot\u001b[0;34m(self, ax, kws)\u001b[0m\n\u001b[1;32m   1414\u001b[0m         \u001b[0;32mfor\u001b[0m \u001b[0mcenter\u001b[0m\u001b[0;34m,\u001b[0m \u001b[0mswarm\u001b[0m \u001b[0;32min\u001b[0m \u001b[0mzip\u001b[0m\u001b[0;34m(\u001b[0m\u001b[0mcenters\u001b[0m\u001b[0;34m,\u001b[0m \u001b[0mswarms\u001b[0m\u001b[0;34m)\u001b[0m\u001b[0;34m:\u001b[0m\u001b[0;34m\u001b[0m\u001b[0;34m\u001b[0m\u001b[0m\n\u001b[1;32m   1415\u001b[0m             \u001b[0;32mif\u001b[0m \u001b[0mswarm\u001b[0m\u001b[0;34m.\u001b[0m\u001b[0mget_offsets\u001b[0m\u001b[0;34m(\u001b[0m\u001b[0;34m)\u001b[0m\u001b[0;34m.\u001b[0m\u001b[0msize\u001b[0m\u001b[0;34m:\u001b[0m\u001b[0;34m\u001b[0m\u001b[0;34m\u001b[0m\u001b[0m\n\u001b[0;32m-> 1416\u001b[0;31m                 \u001b[0mself\u001b[0m\u001b[0;34m.\u001b[0m\u001b[0mswarm_points\u001b[0m\u001b[0;34m(\u001b[0m\u001b[0max\u001b[0m\u001b[0;34m,\u001b[0m \u001b[0mswarm\u001b[0m\u001b[0;34m,\u001b[0m \u001b[0mcenter\u001b[0m\u001b[0;34m,\u001b[0m \u001b[0mwidth\u001b[0m\u001b[0;34m,\u001b[0m \u001b[0ms\u001b[0m\u001b[0;34m,\u001b[0m \u001b[0;34m**\u001b[0m\u001b[0mkws\u001b[0m\u001b[0;34m)\u001b[0m\u001b[0;34m\u001b[0m\u001b[0;34m\u001b[0m\u001b[0m\n\u001b[0m\u001b[1;32m   1417\u001b[0m \u001b[0;34m\u001b[0m\u001b[0m\n\u001b[1;32m   1418\u001b[0m     \u001b[0;32mdef\u001b[0m \u001b[0mplot\u001b[0m\u001b[0;34m(\u001b[0m\u001b[0mself\u001b[0m\u001b[0;34m,\u001b[0m \u001b[0max\u001b[0m\u001b[0;34m,\u001b[0m \u001b[0mkws\u001b[0m\u001b[0;34m)\u001b[0m\u001b[0;34m:\u001b[0m\u001b[0;34m\u001b[0m\u001b[0;34m\u001b[0m\u001b[0m\n",
      "\u001b[0;32m/usr/local/anaconda3/lib/python3.9/site-packages/seaborn/categorical.py\u001b[0m in \u001b[0;36mswarm_points\u001b[0;34m(self, ax, points, center, width, s, **kws)\u001b[0m\n\u001b[1;32m   1316\u001b[0m \u001b[0;34m\u001b[0m\u001b[0m\n\u001b[1;32m   1317\u001b[0m         \u001b[0;31m# Do the beeswarm in point coordinates\u001b[0m\u001b[0;34m\u001b[0m\u001b[0;34m\u001b[0m\u001b[0m\n\u001b[0;32m-> 1318\u001b[0;31m         \u001b[0mnew_xy\u001b[0m \u001b[0;34m=\u001b[0m \u001b[0mself\u001b[0m\u001b[0;34m.\u001b[0m\u001b[0mbeeswarm\u001b[0m\u001b[0;34m(\u001b[0m\u001b[0morig_xy\u001b[0m\u001b[0;34m,\u001b[0m \u001b[0md\u001b[0m\u001b[0;34m)\u001b[0m\u001b[0;34m\u001b[0m\u001b[0;34m\u001b[0m\u001b[0m\n\u001b[0m\u001b[1;32m   1319\u001b[0m \u001b[0;34m\u001b[0m\u001b[0m\n\u001b[1;32m   1320\u001b[0m         \u001b[0;31m# Transform the point coordinates back to data coordinates\u001b[0m\u001b[0;34m\u001b[0m\u001b[0;34m\u001b[0m\u001b[0m\n",
      "\u001b[0;32m/usr/local/anaconda3/lib/python3.9/site-packages/seaborn/categorical.py\u001b[0m in \u001b[0;36mbeeswarm\u001b[0;34m(self, orig_xy, d)\u001b[0m\n\u001b[1;32m   1268\u001b[0m \u001b[0;34m\u001b[0m\u001b[0m\n\u001b[1;32m   1269\u001b[0m             \u001b[0;31m# Find the first candidate that does not overlap any neighbours\u001b[0m\u001b[0;34m\u001b[0m\u001b[0;34m\u001b[0m\u001b[0m\n\u001b[0;32m-> 1270\u001b[0;31m             new_xy_i = self.first_non_overlapping_candidate(candidates,\n\u001b[0m\u001b[1;32m   1271\u001b[0m                                                             neighbors, d)\n\u001b[1;32m   1272\u001b[0m \u001b[0;34m\u001b[0m\u001b[0m\n",
      "\u001b[0;32m/usr/local/anaconda3/lib/python3.9/site-packages/seaborn/categorical.py\u001b[0m in \u001b[0;36mfirst_non_overlapping_candidate\u001b[0;34m(self, candidates, neighbors, d)\u001b[0m\n\u001b[1;32m   1227\u001b[0m             \u001b[0mdy\u001b[0m \u001b[0;34m=\u001b[0m \u001b[0mneighbors_y\u001b[0m \u001b[0;34m-\u001b[0m \u001b[0my_i\u001b[0m\u001b[0;34m\u001b[0m\u001b[0;34m\u001b[0m\u001b[0m\n\u001b[1;32m   1228\u001b[0m \u001b[0;34m\u001b[0m\u001b[0m\n\u001b[0;32m-> 1229\u001b[0;31m             \u001b[0msq_distances\u001b[0m \u001b[0;34m=\u001b[0m \u001b[0mnp\u001b[0m\u001b[0;34m.\u001b[0m\u001b[0mpower\u001b[0m\u001b[0;34m(\u001b[0m\u001b[0mdx\u001b[0m\u001b[0;34m,\u001b[0m \u001b[0;36m2.0\u001b[0m\u001b[0;34m)\u001b[0m \u001b[0;34m+\u001b[0m \u001b[0mnp\u001b[0m\u001b[0;34m.\u001b[0m\u001b[0mpower\u001b[0m\u001b[0;34m(\u001b[0m\u001b[0mdy\u001b[0m\u001b[0;34m,\u001b[0m \u001b[0;36m2.0\u001b[0m\u001b[0;34m)\u001b[0m\u001b[0;34m\u001b[0m\u001b[0;34m\u001b[0m\u001b[0m\n\u001b[0m\u001b[1;32m   1230\u001b[0m \u001b[0;34m\u001b[0m\u001b[0m\n\u001b[1;32m   1231\u001b[0m             \u001b[0;31m# good candidate does not overlap any of neighbors\u001b[0m\u001b[0;34m\u001b[0m\u001b[0;34m\u001b[0m\u001b[0m\n",
      "\u001b[0;31mKeyboardInterrupt\u001b[0m: "
     ]
    },
    {
     "data": {
      "image/png": "[encoded data removed]",
      "text/plain": [
       "<Figure size 1200x600 with 1 Axes>"
      ]
     },
     "metadata": {},
     "output_type": "display_data"
    }
   ],
   "source": [
    "cat_var = 'car_garage'\n",
    "\n",
    "cont_vars = ['taxvalue']\n",
    "plot_categorical_and_continuous_vars(train,cat_var,cont_vars)"
   ]
  },
  {
   "cell_type": "code",
   "execution_count": 59,
   "id": "b8a69a3b",
   "metadata": {},
   "outputs": [
    {
     "data": {
      "image/png": "[encoded data removed]",
      "text/plain": [
       "<Figure size 1200x600 with 1 Axes>"
      ]
     },
     "metadata": {},
     "output_type": "display_data"
    },
    {
     "data": {
      "image/png": "[encoded data removed]",
      "text/plain": [
       "<Figure size 1200x600 with 1 Axes>"
      ]
     },
     "metadata": {},
     "output_type": "display_data"
    },
    {
     "ename": "KeyboardInterrupt",
     "evalue": "",
     "output_type": "error",
     "traceback": [
      "\u001b[0;31m---------------------------------------------------------------------------\u001b[0m",
      "\u001b[0;31mKeyboardInterrupt\u001b[0m                         Traceback (most recent call last)",
      "\u001b[0;32m/var/folders/wd/5_z1tvw94pv9x2ld8p_0dl2r0000gn/T/ipykernel_24379/4038989135.py\u001b[0m in \u001b[0;36m<module>\u001b[0;34m\u001b[0m\n\u001b[1;32m      1\u001b[0m \u001b[0mcat_var\u001b[0m \u001b[0;34m=\u001b[0m \u001b[0;34m'air_conditioning'\u001b[0m\u001b[0;34m\u001b[0m\u001b[0;34m\u001b[0m\u001b[0m\n\u001b[1;32m      2\u001b[0m \u001b[0mcont_vars\u001b[0m \u001b[0;34m=\u001b[0m \u001b[0;34m[\u001b[0m\u001b[0;34m'taxvalue'\u001b[0m\u001b[0;34m]\u001b[0m\u001b[0;34m\u001b[0m\u001b[0;34m\u001b[0m\u001b[0m\n\u001b[0;32m----> 3\u001b[0;31m \u001b[0mplot_categorical_and_continuous_vars\u001b[0m\u001b[0;34m(\u001b[0m\u001b[0mtrain\u001b[0m\u001b[0;34m,\u001b[0m\u001b[0mcat_var\u001b[0m\u001b[0;34m,\u001b[0m\u001b[0mcont_vars\u001b[0m\u001b[0;34m)\u001b[0m\u001b[0;34m\u001b[0m\u001b[0;34m\u001b[0m\u001b[0m\n\u001b[0m",
      "\u001b[0;32m/var/folders/wd/5_z1tvw94pv9x2ld8p_0dl2r0000gn/T/ipykernel_24379/2293644355.py\u001b[0m in \u001b[0;36mplot_categorical_and_continuous_vars\u001b[0;34m(df, cat_var, cont_var)\u001b[0m\n\u001b[1;32m     21\u001b[0m         \u001b[0;31m# Create a swarm plot\u001b[0m\u001b[0;34m\u001b[0m\u001b[0;34m\u001b[0m\u001b[0m\n\u001b[1;32m     22\u001b[0m         \u001b[0mplt\u001b[0m\u001b[0;34m.\u001b[0m\u001b[0mfigure\u001b[0m\u001b[0;34m(\u001b[0m\u001b[0mfigsize\u001b[0m\u001b[0;34m=\u001b[0m\u001b[0;34m(\u001b[0m\u001b[0;36m12\u001b[0m\u001b[0;34m,\u001b[0m \u001b[0;36m6\u001b[0m\u001b[0;34m)\u001b[0m\u001b[0;34m)\u001b[0m\u001b[0;34m\u001b[0m\u001b[0;34m\u001b[0m\u001b[0m\n\u001b[0;32m---> 23\u001b[0;31m         \u001b[0msns\u001b[0m\u001b[0;34m.\u001b[0m\u001b[0mswarmplot\u001b[0m\u001b[0;34m(\u001b[0m\u001b[0mx\u001b[0m\u001b[0;34m=\u001b[0m\u001b[0mcat_var\u001b[0m\u001b[0;34m,\u001b[0m \u001b[0my\u001b[0m\u001b[0;34m=\u001b[0m\u001b[0mvar\u001b[0m\u001b[0;34m,\u001b[0m \u001b[0mdata\u001b[0m\u001b[0;34m=\u001b[0m\u001b[0mdf\u001b[0m\u001b[0;34m)\u001b[0m\u001b[0;34m\u001b[0m\u001b[0;34m\u001b[0m\u001b[0m\n\u001b[0m\u001b[1;32m     24\u001b[0m         \u001b[0mplt\u001b[0m\u001b[0;34m.\u001b[0m\u001b[0maxhline\u001b[0m\u001b[0;34m(\u001b[0m\u001b[0my\u001b[0m\u001b[0;34m=\u001b[0m\u001b[0mdf\u001b[0m\u001b[0;34m[\u001b[0m\u001b[0mvar\u001b[0m\u001b[0;34m]\u001b[0m\u001b[0;34m.\u001b[0m\u001b[0mmean\u001b[0m\u001b[0;34m(\u001b[0m\u001b[0;34m)\u001b[0m\u001b[0;34m,\u001b[0m \u001b[0mcolor\u001b[0m\u001b[0;34m=\u001b[0m\u001b[0;34m'r'\u001b[0m\u001b[0;34m,\u001b[0m \u001b[0mlinestyle\u001b[0m\u001b[0;34m=\u001b[0m\u001b[0;34m'--'\u001b[0m\u001b[0;34m)\u001b[0m\u001b[0;34m\u001b[0m\u001b[0;34m\u001b[0m\u001b[0m\n\u001b[1;32m     25\u001b[0m         \u001b[0mplt\u001b[0m\u001b[0;34m.\u001b[0m\u001b[0mxlabel\u001b[0m\u001b[0;34m(\u001b[0m\u001b[0mcat_var\u001b[0m\u001b[0;34m)\u001b[0m\u001b[0;34m\u001b[0m\u001b[0;34m\u001b[0m\u001b[0m\n",
      "\u001b[0;32m/usr/local/anaconda3/lib/python3.9/site-packages/seaborn/_decorators.py\u001b[0m in \u001b[0;36minner_f\u001b[0;34m(*args, **kwargs)\u001b[0m\n\u001b[1;32m     44\u001b[0m             )\n\u001b[1;32m     45\u001b[0m         \u001b[0mkwargs\u001b[0m\u001b[0;34m.\u001b[0m\u001b[0mupdate\u001b[0m\u001b[0;34m(\u001b[0m\u001b[0;34m{\u001b[0m\u001b[0mk\u001b[0m\u001b[0;34m:\u001b[0m \u001b[0marg\u001b[0m \u001b[0;32mfor\u001b[0m \u001b[0mk\u001b[0m\u001b[0;34m,\u001b[0m \u001b[0marg\u001b[0m \u001b[0;32min\u001b[0m \u001b[0mzip\u001b[0m\u001b[0;34m(\u001b[0m\u001b[0msig\u001b[0m\u001b[0;34m.\u001b[0m\u001b[0mparameters\u001b[0m\u001b[0;34m,\u001b[0m \u001b[0margs\u001b[0m\u001b[0;34m)\u001b[0m\u001b[0;34m}\u001b[0m\u001b[0;34m)\u001b[0m\u001b[0;34m\u001b[0m\u001b[0;34m\u001b[0m\u001b[0m\n\u001b[0;32m---> 46\u001b[0;31m         \u001b[0;32mreturn\u001b[0m \u001b[0mf\u001b[0m\u001b[0;34m(\u001b[0m\u001b[0;34m**\u001b[0m\u001b[0mkwargs\u001b[0m\u001b[0;34m)\u001b[0m\u001b[0;34m\u001b[0m\u001b[0;34m\u001b[0m\u001b[0m\n\u001b[0m\u001b[1;32m     47\u001b[0m     \u001b[0;32mreturn\u001b[0m \u001b[0minner_f\u001b[0m\u001b[0;34m\u001b[0m\u001b[0;34m\u001b[0m\u001b[0m\n\u001b[1;32m     48\u001b[0m \u001b[0;34m\u001b[0m\u001b[0m\n",
      "\u001b[0;32m/usr/local/anaconda3/lib/python3.9/site-packages/seaborn/categorical.py\u001b[0m in \u001b[0;36mswarmplot\u001b[0;34m(x, y, hue, data, order, hue_order, dodge, orient, color, palette, size, edgecolor, linewidth, ax, **kwargs)\u001b[0m\n\u001b[1;32m   3017\u001b[0m                        linewidth=linewidth))\n\u001b[1;32m   3018\u001b[0m \u001b[0;34m\u001b[0m\u001b[0m\n\u001b[0;32m-> 3019\u001b[0;31m     \u001b[0mplotter\u001b[0m\u001b[0;34m.\u001b[0m\u001b[0mplot\u001b[0m\u001b[0;34m(\u001b[0m\u001b[0max\u001b[0m\u001b[0;34m,\u001b[0m \u001b[0mkwargs\u001b[0m\u001b[0;34m)\u001b[0m\u001b[0;34m\u001b[0m\u001b[0;34m\u001b[0m\u001b[0m\n\u001b[0m\u001b[1;32m   3020\u001b[0m     \u001b[0;32mreturn\u001b[0m \u001b[0max\u001b[0m\u001b[0;34m\u001b[0m\u001b[0;34m\u001b[0m\u001b[0m\n\u001b[1;32m   3021\u001b[0m \u001b[0;34m\u001b[0m\u001b[0m\n",
      "\u001b[0;32m/usr/local/anaconda3/lib/python3.9/site-packages/seaborn/categorical.py\u001b[0m in \u001b[0;36mplot\u001b[0;34m(self, ax, kws)\u001b[0m\n\u001b[1;32m   1418\u001b[0m     \u001b[0;32mdef\u001b[0m \u001b[0mplot\u001b[0m\u001b[0;34m(\u001b[0m\u001b[0mself\u001b[0m\u001b[0;34m,\u001b[0m \u001b[0max\u001b[0m\u001b[0;34m,\u001b[0m \u001b[0mkws\u001b[0m\u001b[0;34m)\u001b[0m\u001b[0;34m:\u001b[0m\u001b[0;34m\u001b[0m\u001b[0;34m\u001b[0m\u001b[0m\n\u001b[1;32m   1419\u001b[0m         \u001b[0;34m\"\"\"Make the full plot.\"\"\"\u001b[0m\u001b[0;34m\u001b[0m\u001b[0;34m\u001b[0m\u001b[0m\n\u001b[0;32m-> 1420\u001b[0;31m         \u001b[0mself\u001b[0m\u001b[0;34m.\u001b[0m\u001b[0mdraw_swarmplot\u001b[0m\u001b[0;34m(\u001b[0m\u001b[0max\u001b[0m\u001b[0;34m,\u001b[0m \u001b[0mkws\u001b[0m\u001b[0;34m)\u001b[0m\u001b[0;34m\u001b[0m\u001b[0;34m\u001b[0m\u001b[0m\n\u001b[0m\u001b[1;32m   1421\u001b[0m         \u001b[0mself\u001b[0m\u001b[0;34m.\u001b[0m\u001b[0madd_legend_data\u001b[0m\u001b[0;34m(\u001b[0m\u001b[0max\u001b[0m\u001b[0;34m)\u001b[0m\u001b[0;34m\u001b[0m\u001b[0;34m\u001b[0m\u001b[0m\n\u001b[1;32m   1422\u001b[0m         \u001b[0mself\u001b[0m\u001b[0;34m.\u001b[0m\u001b[0mannotate_axes\u001b[0m\u001b[0;34m(\u001b[0m\u001b[0max\u001b[0m\u001b[0;34m)\u001b[0m\u001b[0;34m\u001b[0m\u001b[0;34m\u001b[0m\u001b[0m\n",
      "\u001b[0;32m/usr/local/anaconda3/lib/python3.9/site-packages/seaborn/categorical.py\u001b[0m in \u001b[0;36mdraw_swarmplot\u001b[0;34m(self, ax, kws)\u001b[0m\n\u001b[1;32m   1414\u001b[0m         \u001b[0;32mfor\u001b[0m \u001b[0mcenter\u001b[0m\u001b[0;34m,\u001b[0m \u001b[0mswarm\u001b[0m \u001b[0;32min\u001b[0m \u001b[0mzip\u001b[0m\u001b[0;34m(\u001b[0m\u001b[0mcenters\u001b[0m\u001b[0;34m,\u001b[0m \u001b[0mswarms\u001b[0m\u001b[0;34m)\u001b[0m\u001b[0;34m:\u001b[0m\u001b[0;34m\u001b[0m\u001b[0;34m\u001b[0m\u001b[0m\n\u001b[1;32m   1415\u001b[0m             \u001b[0;32mif\u001b[0m \u001b[0mswarm\u001b[0m\u001b[0;34m.\u001b[0m\u001b[0mget_offsets\u001b[0m\u001b[0;34m(\u001b[0m\u001b[0;34m)\u001b[0m\u001b[0;34m.\u001b[0m\u001b[0msize\u001b[0m\u001b[0;34m:\u001b[0m\u001b[0;34m\u001b[0m\u001b[0;34m\u001b[0m\u001b[0m\n\u001b[0;32m-> 1416\u001b[0;31m                 \u001b[0mself\u001b[0m\u001b[0;34m.\u001b[0m\u001b[0mswarm_points\u001b[0m\u001b[0;34m(\u001b[0m\u001b[0max\u001b[0m\u001b[0;34m,\u001b[0m \u001b[0mswarm\u001b[0m\u001b[0;34m,\u001b[0m \u001b[0mcenter\u001b[0m\u001b[0;34m,\u001b[0m \u001b[0mwidth\u001b[0m\u001b[0;34m,\u001b[0m \u001b[0ms\u001b[0m\u001b[0;34m,\u001b[0m \u001b[0;34m**\u001b[0m\u001b[0mkws\u001b[0m\u001b[0;34m)\u001b[0m\u001b[0;34m\u001b[0m\u001b[0;34m\u001b[0m\u001b[0m\n\u001b[0m\u001b[1;32m   1417\u001b[0m \u001b[0;34m\u001b[0m\u001b[0m\n\u001b[1;32m   1418\u001b[0m     \u001b[0;32mdef\u001b[0m \u001b[0mplot\u001b[0m\u001b[0;34m(\u001b[0m\u001b[0mself\u001b[0m\u001b[0;34m,\u001b[0m \u001b[0max\u001b[0m\u001b[0;34m,\u001b[0m \u001b[0mkws\u001b[0m\u001b[0;34m)\u001b[0m\u001b[0;34m:\u001b[0m\u001b[0;34m\u001b[0m\u001b[0;34m\u001b[0m\u001b[0m\n",
      "\u001b[0;32m/usr/local/anaconda3/lib/python3.9/site-packages/seaborn/categorical.py\u001b[0m in \u001b[0;36mswarm_points\u001b[0;34m(self, ax, points, center, width, s, **kws)\u001b[0m\n\u001b[1;32m   1316\u001b[0m \u001b[0;34m\u001b[0m\u001b[0m\n\u001b[1;32m   1317\u001b[0m         \u001b[0;31m# Do the beeswarm in point coordinates\u001b[0m\u001b[0;34m\u001b[0m\u001b[0;34m\u001b[0m\u001b[0m\n\u001b[0;32m-> 1318\u001b[0;31m         \u001b[0mnew_xy\u001b[0m \u001b[0;34m=\u001b[0m \u001b[0mself\u001b[0m\u001b[0;34m.\u001b[0m\u001b[0mbeeswarm\u001b[0m\u001b[0;34m(\u001b[0m\u001b[0morig_xy\u001b[0m\u001b[0;34m,\u001b[0m \u001b[0md\u001b[0m\u001b[0;34m)\u001b[0m\u001b[0;34m\u001b[0m\u001b[0;34m\u001b[0m\u001b[0m\n\u001b[0m\u001b[1;32m   1319\u001b[0m \u001b[0;34m\u001b[0m\u001b[0m\n\u001b[1;32m   1320\u001b[0m         \u001b[0;31m# Transform the point coordinates back to data coordinates\u001b[0m\u001b[0;34m\u001b[0m\u001b[0;34m\u001b[0m\u001b[0m\n",
      "\u001b[0;32m/usr/local/anaconda3/lib/python3.9/site-packages/seaborn/categorical.py\u001b[0m in \u001b[0;36mbeeswarm\u001b[0;34m(self, orig_xy, d)\u001b[0m\n\u001b[1;32m   1268\u001b[0m \u001b[0;34m\u001b[0m\u001b[0m\n\u001b[1;32m   1269\u001b[0m             \u001b[0;31m# Find the first candidate that does not overlap any neighbours\u001b[0m\u001b[0;34m\u001b[0m\u001b[0;34m\u001b[0m\u001b[0m\n\u001b[0;32m-> 1270\u001b[0;31m             new_xy_i = self.first_non_overlapping_candidate(candidates,\n\u001b[0m\u001b[1;32m   1271\u001b[0m                                                             neighbors, d)\n\u001b[1;32m   1272\u001b[0m \u001b[0;34m\u001b[0m\u001b[0m\n",
      "\u001b[0;32m/usr/local/anaconda3/lib/python3.9/site-packages/seaborn/categorical.py\u001b[0m in \u001b[0;36mfirst_non_overlapping_candidate\u001b[0;34m(self, candidates, neighbors, d)\u001b[0m\n\u001b[1;32m   1227\u001b[0m             \u001b[0mdy\u001b[0m \u001b[0;34m=\u001b[0m \u001b[0mneighbors_y\u001b[0m \u001b[0;34m-\u001b[0m \u001b[0my_i\u001b[0m\u001b[0;34m\u001b[0m\u001b[0;34m\u001b[0m\u001b[0m\n\u001b[1;32m   1228\u001b[0m \u001b[0;34m\u001b[0m\u001b[0m\n\u001b[0;32m-> 1229\u001b[0;31m             \u001b[0msq_distances\u001b[0m \u001b[0;34m=\u001b[0m \u001b[0mnp\u001b[0m\u001b[0;34m.\u001b[0m\u001b[0mpower\u001b[0m\u001b[0;34m(\u001b[0m\u001b[0mdx\u001b[0m\u001b[0;34m,\u001b[0m \u001b[0;36m2.0\u001b[0m\u001b[0;34m)\u001b[0m \u001b[0;34m+\u001b[0m \u001b[0mnp\u001b[0m\u001b[0;34m.\u001b[0m\u001b[0mpower\u001b[0m\u001b[0;34m(\u001b[0m\u001b[0mdy\u001b[0m\u001b[0;34m,\u001b[0m \u001b[0;36m2.0\u001b[0m\u001b[0;34m)\u001b[0m\u001b[0;34m\u001b[0m\u001b[0;34m\u001b[0m\u001b[0m\n\u001b[0m\u001b[1;32m   1230\u001b[0m \u001b[0;34m\u001b[0m\u001b[0m\n\u001b[1;32m   1231\u001b[0m             \u001b[0;31m# good candidate does not overlap any of neighbors\u001b[0m\u001b[0;34m\u001b[0m\u001b[0;34m\u001b[0m\u001b[0m\n",
      "\u001b[0;31mKeyboardInterrupt\u001b[0m: "
     ]
    },
    {
     "data": {
      "image/png": "[encoded data removed]",
      "text/plain": [
       "<Figure size 1200x600 with 1 Axes>"
      ]
     },
     "metadata": {},
     "output_type": "display_data"
    }
   ],
   "source": [
    "cat_var = 'air_conditioning'\n",
    "cont_vars = ['taxvalue']\n",
    "plot_categorical_and_continuous_vars(train,cat_var,cont_vars)"
   ]
  },
  {
   "cell_type": "code",
   "execution_count": 75,
   "id": "c83a4ff7",
   "metadata": {},
   "outputs": [
    {
     "data": {
      "text/html": [
       "<div>\n",
       "<style scoped>\n",
       "    .dataframe tbody tr th:only-of-type {\n",
       "        vertical-align: middle;\n",
       "    }\n",
       "\n",
       "    .dataframe tbody tr th {\n",
       "        vertical-align: top;\n",
       "    }\n",
       "\n",
       "    .dataframe thead th {\n",
       "        text-align: right;\n",
       "    }\n",
       "</style>\n",
       "<table border=\"1\" class=\"dataframe\">\n",
       "  <thead>\n",
       "    <tr style=\"text-align: right;\">\n",
       "      <th></th>\n",
       "      <th>parcelid</th>\n",
       "      <th>bathrooms</th>\n",
       "      <th>bedrooms</th>\n",
       "      <th>area</th>\n",
       "      <th>yearbuilt</th>\n",
       "      <th>air_conditioning</th>\n",
       "      <th>car_garage</th>\n",
       "      <th>pool</th>\n",
       "      <th>taxvalue</th>\n",
       "      <th>county</th>\n",
       "      <th>transactiondate</th>\n",
       "      <th>LA</th>\n",
       "      <th>Orange</th>\n",
       "      <th>Ventura</th>\n",
       "    </tr>\n",
       "  </thead>\n",
       "  <tbody>\n",
       "    <tr>\n",
       "      <th>1120117</th>\n",
       "      <td>13981794</td>\n",
       "      <td>2.0</td>\n",
       "      <td>3.0</td>\n",
       "      <td>1350.0</td>\n",
       "      <td>1962.0</td>\n",
       "      <td>0</td>\n",
       "      <td>1</td>\n",
       "      <td>0.0</td>\n",
       "      <td>287801.0</td>\n",
       "      <td>Orange</td>\n",
       "      <td>2017-03-27</td>\n",
       "      <td>0</td>\n",
       "      <td>1</td>\n",
       "      <td>0</td>\n",
       "    </tr>\n",
       "    <tr>\n",
       "      <th>1017119</th>\n",
       "      <td>12836757</td>\n",
       "      <td>2.0</td>\n",
       "      <td>3.0</td>\n",
       "      <td>1190.0</td>\n",
       "      <td>1956.0</td>\n",
       "      <td>0</td>\n",
       "      <td>1</td>\n",
       "      <td>0.0</td>\n",
       "      <td>124756.0</td>\n",
       "      <td>LA</td>\n",
       "      <td>2017-07-07</td>\n",
       "      <td>1</td>\n",
       "      <td>0</td>\n",
       "      <td>0</td>\n",
       "    </tr>\n",
       "    <tr>\n",
       "      <th>1192273</th>\n",
       "      <td>11820712</td>\n",
       "      <td>2.0</td>\n",
       "      <td>3.0</td>\n",
       "      <td>1263.0</td>\n",
       "      <td>1939.0</td>\n",
       "      <td>0</td>\n",
       "      <td>1</td>\n",
       "      <td>0.0</td>\n",
       "      <td>40953.0</td>\n",
       "      <td>LA</td>\n",
       "      <td>2017-07-24</td>\n",
       "      <td>1</td>\n",
       "      <td>0</td>\n",
       "      <td>0</td>\n",
       "    </tr>\n",
       "    <tr>\n",
       "      <th>676987</th>\n",
       "      <td>10962820</td>\n",
       "      <td>2.0</td>\n",
       "      <td>3.0</td>\n",
       "      <td>1301.0</td>\n",
       "      <td>1976.0</td>\n",
       "      <td>1</td>\n",
       "      <td>1</td>\n",
       "      <td>0.0</td>\n",
       "      <td>341194.0</td>\n",
       "      <td>LA</td>\n",
       "      <td>2017-01-20</td>\n",
       "      <td>1</td>\n",
       "      <td>0</td>\n",
       "      <td>0</td>\n",
       "    </tr>\n",
       "    <tr>\n",
       "      <th>1671383</th>\n",
       "      <td>13937916</td>\n",
       "      <td>2.0</td>\n",
       "      <td>3.0</td>\n",
       "      <td>1450.0</td>\n",
       "      <td>1962.0</td>\n",
       "      <td>1</td>\n",
       "      <td>1</td>\n",
       "      <td>0.0</td>\n",
       "      <td>375624.0</td>\n",
       "      <td>Orange</td>\n",
       "      <td>2017-04-25</td>\n",
       "      <td>0</td>\n",
       "      <td>1</td>\n",
       "      <td>0</td>\n",
       "    </tr>\n",
       "    <tr>\n",
       "      <th>...</th>\n",
       "      <td>...</td>\n",
       "      <td>...</td>\n",
       "      <td>...</td>\n",
       "      <td>...</td>\n",
       "      <td>...</td>\n",
       "      <td>...</td>\n",
       "      <td>...</td>\n",
       "      <td>...</td>\n",
       "      <td>...</td>\n",
       "      <td>...</td>\n",
       "      <td>...</td>\n",
       "      <td>...</td>\n",
       "      <td>...</td>\n",
       "      <td>...</td>\n",
       "    </tr>\n",
       "    <tr>\n",
       "      <th>1002800</th>\n",
       "      <td>14264194</td>\n",
       "      <td>2.0</td>\n",
       "      <td>3.0</td>\n",
       "      <td>1379.0</td>\n",
       "      <td>1969.0</td>\n",
       "      <td>0</td>\n",
       "      <td>1</td>\n",
       "      <td>0.0</td>\n",
       "      <td>279368.0</td>\n",
       "      <td>Orange</td>\n",
       "      <td>2017-07-24</td>\n",
       "      <td>0</td>\n",
       "      <td>1</td>\n",
       "      <td>0</td>\n",
       "    </tr>\n",
       "    <tr>\n",
       "      <th>550068</th>\n",
       "      <td>12565154</td>\n",
       "      <td>2.0</td>\n",
       "      <td>3.0</td>\n",
       "      <td>1478.0</td>\n",
       "      <td>1941.0</td>\n",
       "      <td>1</td>\n",
       "      <td>1</td>\n",
       "      <td>0.0</td>\n",
       "      <td>280112.0</td>\n",
       "      <td>LA</td>\n",
       "      <td>2017-05-23</td>\n",
       "      <td>1</td>\n",
       "      <td>0</td>\n",
       "      <td>0</td>\n",
       "    </tr>\n",
       "    <tr>\n",
       "      <th>762445</th>\n",
       "      <td>14465292</td>\n",
       "      <td>2.0</td>\n",
       "      <td>3.0</td>\n",
       "      <td>1478.0</td>\n",
       "      <td>1969.0</td>\n",
       "      <td>0</td>\n",
       "      <td>1</td>\n",
       "      <td>1.0</td>\n",
       "      <td>458235.0</td>\n",
       "      <td>Orange</td>\n",
       "      <td>2017-03-14</td>\n",
       "      <td>0</td>\n",
       "      <td>1</td>\n",
       "      <td>0</td>\n",
       "    </tr>\n",
       "    <tr>\n",
       "      <th>2037647</th>\n",
       "      <td>11031074</td>\n",
       "      <td>2.0</td>\n",
       "      <td>3.0</td>\n",
       "      <td>1273.0</td>\n",
       "      <td>1950.0</td>\n",
       "      <td>0</td>\n",
       "      <td>1</td>\n",
       "      <td>0.0</td>\n",
       "      <td>63330.0</td>\n",
       "      <td>LA</td>\n",
       "      <td>2017-09-11</td>\n",
       "      <td>1</td>\n",
       "      <td>0</td>\n",
       "      <td>0</td>\n",
       "    </tr>\n",
       "    <tr>\n",
       "      <th>869735</th>\n",
       "      <td>12473541</td>\n",
       "      <td>2.0</td>\n",
       "      <td>3.0</td>\n",
       "      <td>1293.0</td>\n",
       "      <td>1930.0</td>\n",
       "      <td>0</td>\n",
       "      <td>1</td>\n",
       "      <td>0.0</td>\n",
       "      <td>286166.0</td>\n",
       "      <td>LA</td>\n",
       "      <td>2017-03-29</td>\n",
       "      <td>1</td>\n",
       "      <td>0</td>\n",
       "      <td>0</td>\n",
       "    </tr>\n",
       "  </tbody>\n",
       "</table>\n",
       "<p>7967 rows × 14 columns</p>\n",
       "</div>"
      ],
      "text/plain": [
       "         parcelid  bathrooms  bedrooms    area  yearbuilt  air_conditioning  \\\n",
       "1120117  13981794        2.0       3.0  1350.0     1962.0                 0   \n",
       "1017119  12836757        2.0       3.0  1190.0     1956.0                 0   \n",
       "1192273  11820712        2.0       3.0  1263.0     1939.0                 0   \n",
       "676987   10962820        2.0       3.0  1301.0     1976.0                 1   \n",
       "1671383  13937916        2.0       3.0  1450.0     1962.0                 1   \n",
       "...           ...        ...       ...     ...        ...               ...   \n",
       "1002800  14264194        2.0       3.0  1379.0     1969.0                 0   \n",
       "550068   12565154        2.0       3.0  1478.0     1941.0                 1   \n",
       "762445   14465292        2.0       3.0  1478.0     1969.0                 0   \n",
       "2037647  11031074        2.0       3.0  1273.0     1950.0                 0   \n",
       "869735   12473541        2.0       3.0  1293.0     1930.0                 0   \n",
       "\n",
       "         car_garage  pool  taxvalue  county transactiondate  LA  Orange  \\\n",
       "1120117           1   0.0  287801.0  Orange      2017-03-27   0       1   \n",
       "1017119           1   0.0  124756.0      LA      2017-07-07   1       0   \n",
       "1192273           1   0.0   40953.0      LA      2017-07-24   1       0   \n",
       "676987            1   0.0  341194.0      LA      2017-01-20   1       0   \n",
       "1671383           1   0.0  375624.0  Orange      2017-04-25   0       1   \n",
       "...             ...   ...       ...     ...             ...  ..     ...   \n",
       "1002800           1   0.0  279368.0  Orange      2017-07-24   0       1   \n",
       "550068            1   0.0  280112.0      LA      2017-05-23   1       0   \n",
       "762445            1   1.0  458235.0  Orange      2017-03-14   0       1   \n",
       "2037647           1   0.0   63330.0      LA      2017-09-11   1       0   \n",
       "869735            1   0.0  286166.0      LA      2017-03-29   1       0   \n",
       "\n",
       "         Ventura  \n",
       "1120117        0  \n",
       "1017119        0  \n",
       "1192273        0  \n",
       "676987         0  \n",
       "1671383        0  \n",
       "...          ...  \n",
       "1002800        0  \n",
       "550068         0  \n",
       "762445         0  \n",
       "2037647        0  \n",
       "869735         0  \n",
       "\n",
       "[7967 rows x 14 columns]"
      ]
     },
     "execution_count": 75,
     "metadata": {},
     "output_type": "execute_result"
    }
   ],
   "source": [
    "train[(train.bedrooms==3)& (train.bathrooms==2)]\n"
   ]
  },
  {
   "cell_type": "markdown",
   "id": "7d23345c",
   "metadata": {},
   "source": [
    "## Feature enginering, modeling"
   ]
  },
  {
   "cell_type": "code",
   "execution_count": 85,
   "id": "66116977",
   "metadata": {},
   "outputs": [],
   "source": [
    "x_train= train.drop(columns=['parcelid','taxvalue','county','Ventura','Orange','transactiondate'])\n",
    "y_train= train.taxvalue\n",
    "x_validate= validate.drop(columns=['parcelid','taxvalue','county','Ventura','Orange','transactiondate'])\n",
    "y_validate=validate.taxvalue\n",
    "x_test= test.drop(columns=['parcelid','taxvalue','county','Ventura','Orange','transactiondate'])\n",
    "y_test=test.taxvalue"
   ]
  },
  {
   "cell_type": "markdown",
   "id": "34b39891",
   "metadata": {},
   "source": [
    "#### Scaling:"
   ]
  },
  {
   "cell_type": "code",
   "execution_count": 88,
   "id": "fbdbe45f",
   "metadata": {},
   "outputs": [],
   "source": [
    "from sklearn.feature_selection import SelectKBest, RFE, f_regression, SequentialFeatureSelector"
   ]
  },
  {
   "cell_type": "code",
   "execution_count": 81,
   "id": "a86a979a",
   "metadata": {},
   "outputs": [],
   "source": [
    "from sklearn.preprocessing import RobustScaler\n",
    "def robust_scale_data(X_train, X_validate,X_test):\n",
    "    # Initialize RobustScaler object\n",
    "    scaler = RobustScaler()\n",
    "    \n",
    "    # Fit scaler object to training data\n",
    "    scaler.fit(X_train)\n",
    "    \n",
    "    # Transform training and validation data\n",
    "    X_train_scaled = scaler.transform(X_train)\n",
    "    X_validate_scaled = scaler.transform(X_validate)\n",
    "    X_test_scaled = scaler.transform(X_test)\n",
    "    # Return scaled data\n",
    "    return X_train_scaled, X_validate_scaled, X_test_scaled"
   ]
  },
  {
   "cell_type": "code",
   "execution_count": 86,
   "id": "460bd8fd",
   "metadata": {},
   "outputs": [],
   "source": [
    "x_train_scaled,x_validate_scaled,x_test_scaled=robust_scale_data(x_train,x_validate,x_test)"
   ]
  },
  {
   "cell_type": "markdown",
   "id": "6c185ef9",
   "metadata": {},
   "source": [
    "#### SelectKbest"
   ]
  },
  {
   "cell_type": "code",
   "execution_count": 89,
   "id": "28d46cd2",
   "metadata": {},
   "outputs": [
    {
     "data": {
      "text/plain": [
       "SelectKBest(k=3, score_func=<function f_regression at 0x7ff1e6cac820>)"
      ]
     },
     "execution_count": 89,
     "metadata": {},
     "output_type": "execute_result"
    }
   ],
   "source": [
    "kbest = SelectKBest(f_regression, k=3)\n",
    "kbest.fit(x_train,y_train)"
   ]
  },
  {
   "cell_type": "code",
   "execution_count": 90,
   "id": "c5e7e56e",
   "metadata": {},
   "outputs": [
    {
     "data": {
      "text/plain": [
       "Index(['bathrooms', 'bedrooms', 'area'], dtype='object')"
      ]
     },
     "execution_count": 90,
     "metadata": {},
     "output_type": "execute_result"
    }
   ],
   "source": [
    "x_train.columns[kbest.get_support()]"
   ]
  },
  {
   "cell_type": "markdown",
   "id": "2b73a3de",
   "metadata": {},
   "source": [
    "#### RFE"
   ]
  },
  {
   "cell_type": "code",
   "execution_count": 92,
   "id": "6074b010",
   "metadata": {},
   "outputs": [
    {
     "data": {
      "text/plain": [
       "RFE(estimator=LinearRegression(), n_features_to_select=3)"
      ]
     },
     "execution_count": 92,
     "metadata": {},
     "output_type": "execute_result"
    }
   ],
   "source": [
    "model = LinearRegression()\n",
    "rfe = RFE(model, n_features_to_select=3)\n",
    "rfe.fit(x_train,y_train)"
   ]
  },
  {
   "cell_type": "code",
   "execution_count": 93,
   "id": "df2ca10a",
   "metadata": {},
   "outputs": [
    {
     "data": {
      "text/html": [
       "<div>\n",
       "<style scoped>\n",
       "    .dataframe tbody tr th:only-of-type {\n",
       "        vertical-align: middle;\n",
       "    }\n",
       "\n",
       "    .dataframe tbody tr th {\n",
       "        vertical-align: top;\n",
       "    }\n",
       "\n",
       "    .dataframe thead th {\n",
       "        text-align: right;\n",
       "    }\n",
       "</style>\n",
       "<table border=\"1\" class=\"dataframe\">\n",
       "  <thead>\n",
       "    <tr style=\"text-align: right;\">\n",
       "      <th></th>\n",
       "      <th>rfe_ranking</th>\n",
       "    </tr>\n",
       "  </thead>\n",
       "  <tbody>\n",
       "    <tr>\n",
       "      <th>bathrooms</th>\n",
       "      <td>1</td>\n",
       "    </tr>\n",
       "    <tr>\n",
       "      <th>bedrooms</th>\n",
       "      <td>3</td>\n",
       "    </tr>\n",
       "    <tr>\n",
       "      <th>area</th>\n",
       "      <td>6</td>\n",
       "    </tr>\n",
       "    <tr>\n",
       "      <th>yearbuilt</th>\n",
       "      <td>4</td>\n",
       "    </tr>\n",
       "    <tr>\n",
       "      <th>air_conditioning</th>\n",
       "      <td>1</td>\n",
       "    </tr>\n",
       "    <tr>\n",
       "      <th>car_garage</th>\n",
       "      <td>1</td>\n",
       "    </tr>\n",
       "    <tr>\n",
       "      <th>pool</th>\n",
       "      <td>2</td>\n",
       "    </tr>\n",
       "    <tr>\n",
       "      <th>LA</th>\n",
       "      <td>5</td>\n",
       "    </tr>\n",
       "  </tbody>\n",
       "</table>\n",
       "</div>"
      ],
      "text/plain": [
       "                  rfe_ranking\n",
       "bathrooms                   1\n",
       "bedrooms                    3\n",
       "area                        6\n",
       "yearbuilt                   4\n",
       "air_conditioning            1\n",
       "car_garage                  1\n",
       "pool                        2\n",
       "LA                          5"
      ]
     },
     "execution_count": 93,
     "metadata": {},
     "output_type": "execute_result"
    }
   ],
   "source": [
    "pd.DataFrame(\n",
    "{'rfe_ranking':rfe.ranking_},\n",
    "index=x_train.columns)"
   ]
  },
  {
   "cell_type": "markdown",
   "id": "7b37ebc4",
   "metadata": {},
   "source": [
    "## Sequential Feature Selector"
   ]
  },
  {
   "cell_type": "code",
   "execution_count": 94,
   "id": "aa0c0af8",
   "metadata": {},
   "outputs": [],
   "source": [
    "def sequential_feature_selector(X, y, k):\n",
    "    \"\"\"\n",
    "    Select the top k features based on the Sequential Feature Selector class.\n",
    "    Returns:\n",
    "        List of str: The names of the top k selected features.\n",
    "    \"\"\"\n",
    "    # Create the SequentialFeatureSelector object and fit it to the data\n",
    "    estimator = LinearRegression()\n",
    "    selector = SequentialFeatureSelector(estimator, n_features_to_select=k, direction='forward', scoring='neg_mean_squared_error', cv=5)\n",
    "    selector.fit(X, y)\n",
    "    \n",
    "    # Get the mask of the top k selected features\n",
    "    feature_mask = selector.get_support()\n",
    "    \n",
    "    # Get the names of the top k selected features\n",
    "    feature_names = list(X.columns[feature_mask])\n",
    "    \n",
    "    return feature_names\n"
   ]
  },
  {
   "cell_type": "code",
   "execution_count": 95,
   "id": "979c0b82",
   "metadata": {
    "scrolled": false
   },
   "outputs": [
    {
     "data": {
      "text/plain": [
       "['bedrooms', 'area', 'yearbuilt']"
      ]
     },
     "execution_count": 95,
     "metadata": {},
     "output_type": "execute_result"
    }
   ],
   "source": [
    "sequential_feature_selector(x_train,y_train,3)"
   ]
  },
  {
   "cell_type": "code",
   "execution_count": 101,
   "id": "6ed4c16e",
   "metadata": {},
   "outputs": [],
   "source": [
    "x_train_scaled = pd.DataFrame(x_train_scaled, columns = x_train.columns)\n",
    "\n",
    "x_validate_scaled = pd.DataFrame(x_validate_scaled, columns=x_validate.columns)\n",
    "x_test_scaled=pd.DataFrame(x_test_scaled, columns=x_test.columns)"
   ]
  },
  {
   "cell_type": "markdown",
   "id": "4ce89747",
   "metadata": {},
   "source": [
    "### Modeling\n",
    "\n",
    "features: bathrooms, bedrooms, car_garage"
   ]
  },
  {
   "cell_type": "code",
   "execution_count": 241,
   "id": "fc0a9f72",
   "metadata": {},
   "outputs": [],
   "source": [
    "x_train_rfe=x_train_scaled[['area','bathrooms','bedrooms','air_conditioning']]\n",
    "x_val_rfe=x_validate_scaled[['area','bathrooms','bedrooms','air_conditioning']]\n",
    "x_test_rfe=x_test_scaled[['area','bathrooms','bedrooms','air_conditioning']]"
   ]
  },
  {
   "cell_type": "code",
   "execution_count": 242,
   "id": "d18d4a8f",
   "metadata": {},
   "outputs": [],
   "source": [
    "# yhat:\n",
    "yhat=y_train.mean()\n",
    "yhat\n",
    "yhat= np.repeat(yhat, len(train))"
   ]
  },
  {
   "cell_type": "code",
   "execution_count": 243,
   "id": "a988e070",
   "metadata": {},
   "outputs": [],
   "source": [
    "def metrics_reg(y, yhat):\n",
    "    \"\"\"\n",
    "    send in y_true, y_pred & returns RMSE, R2\n",
    "    \"\"\"\n",
    "    rmse = mean_squared_error(y, yhat, squared=False)\n",
    "    r2 = r2_score(y, yhat)\n",
    "    return rmse, r2"
   ]
  },
  {
   "cell_type": "code",
   "execution_count": 244,
   "id": "1dfba19f",
   "metadata": {},
   "outputs": [
    {
     "data": {
      "text/plain": [
       "(731760.0292301582, 0.0)"
      ]
     },
     "execution_count": 244,
     "metadata": {},
     "output_type": "execute_result"
    }
   ],
   "source": [
    "rmse,r2=metrics_reg(y_train,yhat)\n",
    "rmse,r2"
   ]
  },
  {
   "cell_type": "code",
   "execution_count": 245,
   "id": "4d152ef6",
   "metadata": {},
   "outputs": [
    {
     "data": {
      "text/html": [
       "<div>\n",
       "<style scoped>\n",
       "    .dataframe tbody tr th:only-of-type {\n",
       "        vertical-align: middle;\n",
       "    }\n",
       "\n",
       "    .dataframe tbody tr th {\n",
       "        vertical-align: top;\n",
       "    }\n",
       "\n",
       "    .dataframe thead th {\n",
       "        text-align: right;\n",
       "    }\n",
       "</style>\n",
       "<table border=\"1\" class=\"dataframe\">\n",
       "  <thead>\n",
       "    <tr style=\"text-align: right;\">\n",
       "      <th></th>\n",
       "      <th>model</th>\n",
       "      <th>rmse</th>\n",
       "      <th>r2</th>\n",
       "    </tr>\n",
       "  </thead>\n",
       "  <tbody>\n",
       "    <tr>\n",
       "      <th>0</th>\n",
       "      <td>baseline</td>\n",
       "      <td>731760.02923</td>\n",
       "      <td>0.0</td>\n",
       "    </tr>\n",
       "  </tbody>\n",
       "</table>\n",
       "</div>"
      ],
      "text/plain": [
       "      model          rmse   r2\n",
       "0  baseline  731760.02923  0.0"
      ]
     },
     "execution_count": 245,
     "metadata": {},
     "output_type": "execute_result"
    }
   ],
   "source": [
    "metrics= pd.DataFrame(data=[\n",
    "    {\n",
    "        'model':'baseline',\n",
    "        'rmse':rmse,\n",
    "        'r2':r2\n",
    "    }\n",
    "    \n",
    "])\n",
    "metrics"
   ]
  },
  {
   "cell_type": "markdown",
   "id": "91230ab8",
   "metadata": {},
   "source": [
    "## Ordinary Least Squares (OLS)"
   ]
  },
  {
   "cell_type": "code",
   "execution_count": 246,
   "id": "2499d513",
   "metadata": {},
   "outputs": [],
   "source": [
    "lr=LinearRegression()\n",
    "lr.fit(x_train_rfe,y_train)\n",
    "pred_lr=lr.predict(x_train_rfe)\n",
    "pred_val_lr=lr.predict(x_val_rfe)"
   ]
  },
  {
   "cell_type": "code",
   "execution_count": 247,
   "id": "61382178",
   "metadata": {},
   "outputs": [
    {
     "data": {
      "text/plain": [
       "(577806.8439811162, 0.3765121475368387)"
      ]
     },
     "execution_count": 247,
     "metadata": {},
     "output_type": "execute_result"
    }
   ],
   "source": [
    "metrics_reg(y_train,pred_lr)"
   ]
  },
  {
   "cell_type": "code",
   "execution_count": 248,
   "id": "3aaa2b7d",
   "metadata": {},
   "outputs": [
    {
     "data": {
      "text/plain": [
       "(481305.86398753297, 0.43971780162668017)"
      ]
     },
     "execution_count": 248,
     "metadata": {},
     "output_type": "execute_result"
    }
   ],
   "source": [
    "rmse,r2=metrics_reg(y_validate,pred_val_lr)\n",
    "rmse,r2"
   ]
  },
  {
   "cell_type": "code",
   "execution_count": 249,
   "id": "02f261f5",
   "metadata": {},
   "outputs": [
    {
     "data": {
      "text/html": [
       "<div>\n",
       "<style scoped>\n",
       "    .dataframe tbody tr th:only-of-type {\n",
       "        vertical-align: middle;\n",
       "    }\n",
       "\n",
       "    .dataframe tbody tr th {\n",
       "        vertical-align: top;\n",
       "    }\n",
       "\n",
       "    .dataframe thead th {\n",
       "        text-align: right;\n",
       "    }\n",
       "</style>\n",
       "<table border=\"1\" class=\"dataframe\">\n",
       "  <thead>\n",
       "    <tr style=\"text-align: right;\">\n",
       "      <th></th>\n",
       "      <th>model</th>\n",
       "      <th>rmse</th>\n",
       "      <th>r2</th>\n",
       "    </tr>\n",
       "  </thead>\n",
       "  <tbody>\n",
       "    <tr>\n",
       "      <th>0</th>\n",
       "      <td>baseline</td>\n",
       "      <td>731760.029230</td>\n",
       "      <td>0.000000</td>\n",
       "    </tr>\n",
       "    <tr>\n",
       "      <th>1</th>\n",
       "      <td>Ols</td>\n",
       "      <td>481305.863988</td>\n",
       "      <td>0.439718</td>\n",
       "    </tr>\n",
       "  </tbody>\n",
       "</table>\n",
       "</div>"
      ],
      "text/plain": [
       "      model           rmse        r2\n",
       "0  baseline  731760.029230  0.000000\n",
       "1       Ols  481305.863988  0.439718"
      ]
     },
     "execution_count": 249,
     "metadata": {},
     "output_type": "execute_result"
    }
   ],
   "source": [
    "metrics.loc[1]=(\"Ols\",rmse,r2)\n",
    "metrics"
   ]
  },
  {
   "cell_type": "markdown",
   "id": "3f51d94f",
   "metadata": {},
   "source": [
    "### LassoLARS"
   ]
  },
  {
   "cell_type": "code",
   "execution_count": 250,
   "id": "4153eee6",
   "metadata": {},
   "outputs": [],
   "source": [
    "lars=LassoLars(alpha=1)\n",
    "lars.fit(x_train_scaled,y_train)\n",
    "pred_lars=lars.predict(x_train_scaled)\n",
    "pred_val_lars=lars.predict(x_validate_scaled)"
   ]
  },
  {
   "cell_type": "code",
   "execution_count": 251,
   "id": "040811c4",
   "metadata": {},
   "outputs": [
    {
     "data": {
      "text/plain": [
       "(573195.7487753596, 0.3864237305868312)"
      ]
     },
     "execution_count": 251,
     "metadata": {},
     "output_type": "execute_result"
    }
   ],
   "source": [
    "metrics_reg(y_train,pred_lars)"
   ]
  },
  {
   "cell_type": "code",
   "execution_count": 252,
   "id": "bc0ccce6",
   "metadata": {},
   "outputs": [
    {
     "data": {
      "text/plain": [
       "(478459.8225614758, 0.44632429425018394)"
      ]
     },
     "execution_count": 252,
     "metadata": {},
     "output_type": "execute_result"
    }
   ],
   "source": [
    "rmse,r2=metrics_reg(y_validate,pred_val_lars)\n",
    "rmse,r2"
   ]
  },
  {
   "cell_type": "code",
   "execution_count": 253,
   "id": "831fa700",
   "metadata": {
    "scrolled": true
   },
   "outputs": [
    {
     "data": {
      "text/html": [
       "<div>\n",
       "<style scoped>\n",
       "    .dataframe tbody tr th:only-of-type {\n",
       "        vertical-align: middle;\n",
       "    }\n",
       "\n",
       "    .dataframe tbody tr th {\n",
       "        vertical-align: top;\n",
       "    }\n",
       "\n",
       "    .dataframe thead th {\n",
       "        text-align: right;\n",
       "    }\n",
       "</style>\n",
       "<table border=\"1\" class=\"dataframe\">\n",
       "  <thead>\n",
       "    <tr style=\"text-align: right;\">\n",
       "      <th></th>\n",
       "      <th>model</th>\n",
       "      <th>rmse</th>\n",
       "      <th>r2</th>\n",
       "    </tr>\n",
       "  </thead>\n",
       "  <tbody>\n",
       "    <tr>\n",
       "      <th>0</th>\n",
       "      <td>baseline</td>\n",
       "      <td>731760.029230</td>\n",
       "      <td>0.000000</td>\n",
       "    </tr>\n",
       "    <tr>\n",
       "      <th>1</th>\n",
       "      <td>Ols</td>\n",
       "      <td>481305.863988</td>\n",
       "      <td>0.439718</td>\n",
       "    </tr>\n",
       "    <tr>\n",
       "      <th>2</th>\n",
       "      <td>lars</td>\n",
       "      <td>478459.822561</td>\n",
       "      <td>0.446324</td>\n",
       "    </tr>\n",
       "  </tbody>\n",
       "</table>\n",
       "</div>"
      ],
      "text/plain": [
       "      model           rmse        r2\n",
       "0  baseline  731760.029230  0.000000\n",
       "1       Ols  481305.863988  0.439718\n",
       "2      lars  478459.822561  0.446324"
      ]
     },
     "execution_count": 253,
     "metadata": {},
     "output_type": "execute_result"
    }
   ],
   "source": [
    "metrics.loc[2]=('lars',rmse,r2)\n",
    "metrics"
   ]
  },
  {
   "cell_type": "code",
   "execution_count": 254,
   "id": "3c591338",
   "metadata": {},
   "outputs": [],
   "source": [
    "lars=LassoLars(alpha=2)\n",
    "lars.fit(x_train_scaled,y_train)\n",
    "pred_lars=lars.predict(x_train_scaled)\n",
    "pred_val_lars=lars.predict(x_validate_scaled)"
   ]
  },
  {
   "cell_type": "code",
   "execution_count": 255,
   "id": "5cd43e1a",
   "metadata": {
    "scrolled": true
   },
   "outputs": [
    {
     "data": {
      "text/plain": [
       "(478434.2496736778, 0.4463834787736992)"
      ]
     },
     "execution_count": 255,
     "metadata": {},
     "output_type": "execute_result"
    }
   ],
   "source": [
    "rmse,r2=metrics_reg(y_validate,pred_val_lars)\n",
    "rmse,r2"
   ]
  },
  {
   "cell_type": "code",
   "execution_count": 256,
   "id": "c3a96c2b",
   "metadata": {
    "scrolled": true
   },
   "outputs": [
    {
     "data": {
      "text/html": [
       "<div>\n",
       "<style scoped>\n",
       "    .dataframe tbody tr th:only-of-type {\n",
       "        vertical-align: middle;\n",
       "    }\n",
       "\n",
       "    .dataframe tbody tr th {\n",
       "        vertical-align: top;\n",
       "    }\n",
       "\n",
       "    .dataframe thead th {\n",
       "        text-align: right;\n",
       "    }\n",
       "</style>\n",
       "<table border=\"1\" class=\"dataframe\">\n",
       "  <thead>\n",
       "    <tr style=\"text-align: right;\">\n",
       "      <th></th>\n",
       "      <th>model</th>\n",
       "      <th>rmse</th>\n",
       "      <th>r2</th>\n",
       "    </tr>\n",
       "  </thead>\n",
       "  <tbody>\n",
       "    <tr>\n",
       "      <th>0</th>\n",
       "      <td>baseline</td>\n",
       "      <td>731760.029230</td>\n",
       "      <td>0.000000</td>\n",
       "    </tr>\n",
       "    <tr>\n",
       "      <th>1</th>\n",
       "      <td>Ols</td>\n",
       "      <td>481305.863988</td>\n",
       "      <td>0.439718</td>\n",
       "    </tr>\n",
       "    <tr>\n",
       "      <th>2</th>\n",
       "      <td>lars</td>\n",
       "      <td>478459.822561</td>\n",
       "      <td>0.446324</td>\n",
       "    </tr>\n",
       "    <tr>\n",
       "      <th>3</th>\n",
       "      <td>lars2</td>\n",
       "      <td>478434.249674</td>\n",
       "      <td>0.446383</td>\n",
       "    </tr>\n",
       "  </tbody>\n",
       "</table>\n",
       "</div>"
      ],
      "text/plain": [
       "      model           rmse        r2\n",
       "0  baseline  731760.029230  0.000000\n",
       "1       Ols  481305.863988  0.439718\n",
       "2      lars  478459.822561  0.446324\n",
       "3     lars2  478434.249674  0.446383"
      ]
     },
     "execution_count": 256,
     "metadata": {},
     "output_type": "execute_result"
    }
   ],
   "source": [
    "metrics.loc[3]=('lars2',rmse,r2)\n",
    "metrics"
   ]
  },
  {
   "cell_type": "code",
   "execution_count": 257,
   "id": "64a76632",
   "metadata": {},
   "outputs": [],
   "source": [
    "lars=LassoLars(alpha=3)\n",
    "lars.fit(x_train_scaled,y_train)\n",
    "pred_lars=lars.predict(x_train_scaled)\n",
    "pred_val_lars=lars.predict(x_validate_scaled)"
   ]
  },
  {
   "cell_type": "code",
   "execution_count": 258,
   "id": "d931d959",
   "metadata": {},
   "outputs": [
    {
     "data": {
      "text/plain": [
       "(478409.49631993106, 0.4464407635984885)"
      ]
     },
     "execution_count": 258,
     "metadata": {},
     "output_type": "execute_result"
    }
   ],
   "source": [
    "rmse,r2=metrics_reg(y_validate,pred_val_lars)\n",
    "rmse,r2"
   ]
  },
  {
   "cell_type": "code",
   "execution_count": 259,
   "id": "3e2857aa",
   "metadata": {},
   "outputs": [
    {
     "data": {
      "text/html": [
       "<div>\n",
       "<style scoped>\n",
       "    .dataframe tbody tr th:only-of-type {\n",
       "        vertical-align: middle;\n",
       "    }\n",
       "\n",
       "    .dataframe tbody tr th {\n",
       "        vertical-align: top;\n",
       "    }\n",
       "\n",
       "    .dataframe thead th {\n",
       "        text-align: right;\n",
       "    }\n",
       "</style>\n",
       "<table border=\"1\" class=\"dataframe\">\n",
       "  <thead>\n",
       "    <tr style=\"text-align: right;\">\n",
       "      <th></th>\n",
       "      <th>model</th>\n",
       "      <th>rmse</th>\n",
       "      <th>r2</th>\n",
       "    </tr>\n",
       "  </thead>\n",
       "  <tbody>\n",
       "    <tr>\n",
       "      <th>0</th>\n",
       "      <td>baseline</td>\n",
       "      <td>731760.029230</td>\n",
       "      <td>0.000000</td>\n",
       "    </tr>\n",
       "    <tr>\n",
       "      <th>1</th>\n",
       "      <td>Ols</td>\n",
       "      <td>481305.863988</td>\n",
       "      <td>0.439718</td>\n",
       "    </tr>\n",
       "    <tr>\n",
       "      <th>2</th>\n",
       "      <td>lars</td>\n",
       "      <td>478459.822561</td>\n",
       "      <td>0.446324</td>\n",
       "    </tr>\n",
       "    <tr>\n",
       "      <th>3</th>\n",
       "      <td>lars2</td>\n",
       "      <td>478434.249674</td>\n",
       "      <td>0.446383</td>\n",
       "    </tr>\n",
       "    <tr>\n",
       "      <th>4</th>\n",
       "      <td>lars3</td>\n",
       "      <td>478409.496320</td>\n",
       "      <td>0.446441</td>\n",
       "    </tr>\n",
       "  </tbody>\n",
       "</table>\n",
       "</div>"
      ],
      "text/plain": [
       "      model           rmse        r2\n",
       "0  baseline  731760.029230  0.000000\n",
       "1       Ols  481305.863988  0.439718\n",
       "2      lars  478459.822561  0.446324\n",
       "3     lars2  478434.249674  0.446383\n",
       "4     lars3  478409.496320  0.446441"
      ]
     },
     "execution_count": 259,
     "metadata": {},
     "output_type": "execute_result"
    }
   ],
   "source": [
    "metrics.loc[4]=('lars3',rmse,r2)\n",
    "metrics"
   ]
  },
  {
   "cell_type": "markdown",
   "id": "4191f4c2",
   "metadata": {},
   "source": [
    "### Polynomial Regression"
   ]
  },
  {
   "cell_type": "code",
   "execution_count": 260,
   "id": "336b4764",
   "metadata": {},
   "outputs": [],
   "source": [
    "pf = PolynomialFeatures(degree=2)"
   ]
  },
  {
   "cell_type": "code",
   "execution_count": 261,
   "id": "38f56909",
   "metadata": {},
   "outputs": [],
   "source": [
    "x_degree=pf.fit_transform(x_train_scaled,y_train)\n",
    "x_val_degree=pf.transform(x_validate_scaled)\n",
    "pr=LinearRegression()"
   ]
  },
  {
   "cell_type": "code",
   "execution_count": 262,
   "id": "4ebea9cf",
   "metadata": {},
   "outputs": [],
   "source": [
    "pr.fit(x_degree,y_train)\n",
    "pred_pf=pr.predict(x_degree)\n",
    "pred_val_pf=pr.predict(x_val_degree)\n"
   ]
  },
  {
   "cell_type": "code",
   "execution_count": 263,
   "id": "9ca0b284",
   "metadata": {},
   "outputs": [],
   "source": [
    "rmse,r2=metrics_reg(y_validate,pred_val_pf)"
   ]
  },
  {
   "cell_type": "code",
   "execution_count": 264,
   "id": "c7585d4b",
   "metadata": {
    "scrolled": true
   },
   "outputs": [
    {
     "data": {
      "text/html": [
       "<div>\n",
       "<style scoped>\n",
       "    .dataframe tbody tr th:only-of-type {\n",
       "        vertical-align: middle;\n",
       "    }\n",
       "\n",
       "    .dataframe tbody tr th {\n",
       "        vertical-align: top;\n",
       "    }\n",
       "\n",
       "    .dataframe thead th {\n",
       "        text-align: right;\n",
       "    }\n",
       "</style>\n",
       "<table border=\"1\" class=\"dataframe\">\n",
       "  <thead>\n",
       "    <tr style=\"text-align: right;\">\n",
       "      <th></th>\n",
       "      <th>model</th>\n",
       "      <th>rmse</th>\n",
       "      <th>r2</th>\n",
       "    </tr>\n",
       "  </thead>\n",
       "  <tbody>\n",
       "    <tr>\n",
       "      <th>0</th>\n",
       "      <td>baseline</td>\n",
       "      <td>731760.029230</td>\n",
       "      <td>0.000000</td>\n",
       "    </tr>\n",
       "    <tr>\n",
       "      <th>1</th>\n",
       "      <td>Ols</td>\n",
       "      <td>481305.863988</td>\n",
       "      <td>0.439718</td>\n",
       "    </tr>\n",
       "    <tr>\n",
       "      <th>2</th>\n",
       "      <td>lars</td>\n",
       "      <td>478459.822561</td>\n",
       "      <td>0.446324</td>\n",
       "    </tr>\n",
       "    <tr>\n",
       "      <th>3</th>\n",
       "      <td>lars2</td>\n",
       "      <td>478434.249674</td>\n",
       "      <td>0.446383</td>\n",
       "    </tr>\n",
       "    <tr>\n",
       "      <th>4</th>\n",
       "      <td>lars3</td>\n",
       "      <td>478409.496320</td>\n",
       "      <td>0.446441</td>\n",
       "    </tr>\n",
       "    <tr>\n",
       "      <th>5</th>\n",
       "      <td>pf_deg2</td>\n",
       "      <td>466754.337621</td>\n",
       "      <td>0.473084</td>\n",
       "    </tr>\n",
       "  </tbody>\n",
       "</table>\n",
       "</div>"
      ],
      "text/plain": [
       "      model           rmse        r2\n",
       "0  baseline  731760.029230  0.000000\n",
       "1       Ols  481305.863988  0.439718\n",
       "2      lars  478459.822561  0.446324\n",
       "3     lars2  478434.249674  0.446383\n",
       "4     lars3  478409.496320  0.446441\n",
       "5   pf_deg2  466754.337621  0.473084"
      ]
     },
     "execution_count": 264,
     "metadata": {},
     "output_type": "execute_result"
    }
   ],
   "source": [
    "metrics.loc[5]=('pf_deg2',rmse,r2)\n",
    "metrics"
   ]
  },
  {
   "cell_type": "code",
   "execution_count": 265,
   "id": "8370308f",
   "metadata": {},
   "outputs": [],
   "source": [
    "pf = PolynomialFeatures(degree=3)\n",
    "x_degree=pf.fit_transform(x_train_scaled,y_train)\n",
    "x_val_degree=pf.transform(x_validate_scaled)\n",
    "pr=LinearRegression()\n",
    "pr.fit(x_degree,y_train)\n",
    "pred_pf=pr.predict(x_degree)\n",
    "pred_val_pf=pr.predict(x_val_degree)\n"
   ]
  },
  {
   "cell_type": "code",
   "execution_count": 266,
   "id": "67873bb9",
   "metadata": {},
   "outputs": [],
   "source": [
    "rmse,r2=metrics_reg(y_validate,pred_val_pf)"
   ]
  },
  {
   "cell_type": "code",
   "execution_count": 267,
   "id": "2d2a0a45",
   "metadata": {},
   "outputs": [
    {
     "data": {
      "text/html": [
       "<div>\n",
       "<style scoped>\n",
       "    .dataframe tbody tr th:only-of-type {\n",
       "        vertical-align: middle;\n",
       "    }\n",
       "\n",
       "    .dataframe tbody tr th {\n",
       "        vertical-align: top;\n",
       "    }\n",
       "\n",
       "    .dataframe thead th {\n",
       "        text-align: right;\n",
       "    }\n",
       "</style>\n",
       "<table border=\"1\" class=\"dataframe\">\n",
       "  <thead>\n",
       "    <tr style=\"text-align: right;\">\n",
       "      <th></th>\n",
       "      <th>model</th>\n",
       "      <th>rmse</th>\n",
       "      <th>r2</th>\n",
       "    </tr>\n",
       "  </thead>\n",
       "  <tbody>\n",
       "    <tr>\n",
       "      <th>0</th>\n",
       "      <td>baseline</td>\n",
       "      <td>731760.029230</td>\n",
       "      <td>0.000000</td>\n",
       "    </tr>\n",
       "    <tr>\n",
       "      <th>1</th>\n",
       "      <td>Ols</td>\n",
       "      <td>481305.863988</td>\n",
       "      <td>0.439718</td>\n",
       "    </tr>\n",
       "    <tr>\n",
       "      <th>2</th>\n",
       "      <td>lars</td>\n",
       "      <td>478459.822561</td>\n",
       "      <td>0.446324</td>\n",
       "    </tr>\n",
       "    <tr>\n",
       "      <th>3</th>\n",
       "      <td>lars2</td>\n",
       "      <td>478434.249674</td>\n",
       "      <td>0.446383</td>\n",
       "    </tr>\n",
       "    <tr>\n",
       "      <th>4</th>\n",
       "      <td>lars3</td>\n",
       "      <td>478409.496320</td>\n",
       "      <td>0.446441</td>\n",
       "    </tr>\n",
       "    <tr>\n",
       "      <th>5</th>\n",
       "      <td>pf_deg2</td>\n",
       "      <td>466754.337621</td>\n",
       "      <td>0.473084</td>\n",
       "    </tr>\n",
       "    <tr>\n",
       "      <th>6</th>\n",
       "      <td>pf_deg3</td>\n",
       "      <td>465129.449454</td>\n",
       "      <td>0.476746</td>\n",
       "    </tr>\n",
       "  </tbody>\n",
       "</table>\n",
       "</div>"
      ],
      "text/plain": [
       "      model           rmse        r2\n",
       "0  baseline  731760.029230  0.000000\n",
       "1       Ols  481305.863988  0.439718\n",
       "2      lars  478459.822561  0.446324\n",
       "3     lars2  478434.249674  0.446383\n",
       "4     lars3  478409.496320  0.446441\n",
       "5   pf_deg2  466754.337621  0.473084\n",
       "6   pf_deg3  465129.449454  0.476746"
      ]
     },
     "execution_count": 267,
     "metadata": {},
     "output_type": "execute_result"
    }
   ],
   "source": [
    "metrics.loc[6]=('pf_deg3',rmse,r2)\n",
    "metrics"
   ]
  },
  {
   "cell_type": "code",
   "execution_count": 268,
   "id": "f3b8ff74",
   "metadata": {},
   "outputs": [],
   "source": [
    "pf = PolynomialFeatures(degree=1)\n",
    "x_degree=pf.fit_transform(x_train_scaled,y_train)\n",
    "x_val_degree=pf.transform(x_validate_scaled)\n",
    "pr=LinearRegression()\n",
    "pr.fit(x_degree,y_train)\n",
    "pred_pf=pr.predict(x_degree)\n",
    "pred_val_pf=pr.predict(x_val_degree)"
   ]
  },
  {
   "cell_type": "code",
   "execution_count": 269,
   "id": "a2f9d5fc",
   "metadata": {},
   "outputs": [],
   "source": [
    "rmse,r2=metrics_reg(y_validate,pred_val_pf)"
   ]
  },
  {
   "cell_type": "code",
   "execution_count": 270,
   "id": "2dec93a9",
   "metadata": {},
   "outputs": [
    {
     "data": {
      "text/html": [
       "<div>\n",
       "<style scoped>\n",
       "    .dataframe tbody tr th:only-of-type {\n",
       "        vertical-align: middle;\n",
       "    }\n",
       "\n",
       "    .dataframe tbody tr th {\n",
       "        vertical-align: top;\n",
       "    }\n",
       "\n",
       "    .dataframe thead th {\n",
       "        text-align: right;\n",
       "    }\n",
       "</style>\n",
       "<table border=\"1\" class=\"dataframe\">\n",
       "  <thead>\n",
       "    <tr style=\"text-align: right;\">\n",
       "      <th></th>\n",
       "      <th>model</th>\n",
       "      <th>rmse</th>\n",
       "      <th>r2</th>\n",
       "    </tr>\n",
       "  </thead>\n",
       "  <tbody>\n",
       "    <tr>\n",
       "      <th>0</th>\n",
       "      <td>baseline</td>\n",
       "      <td>731760.029230</td>\n",
       "      <td>0.000000</td>\n",
       "    </tr>\n",
       "    <tr>\n",
       "      <th>1</th>\n",
       "      <td>Ols</td>\n",
       "      <td>481305.863988</td>\n",
       "      <td>0.439718</td>\n",
       "    </tr>\n",
       "    <tr>\n",
       "      <th>2</th>\n",
       "      <td>lars</td>\n",
       "      <td>478459.822561</td>\n",
       "      <td>0.446324</td>\n",
       "    </tr>\n",
       "    <tr>\n",
       "      <th>3</th>\n",
       "      <td>lars2</td>\n",
       "      <td>478434.249674</td>\n",
       "      <td>0.446383</td>\n",
       "    </tr>\n",
       "    <tr>\n",
       "      <th>4</th>\n",
       "      <td>lars3</td>\n",
       "      <td>478409.496320</td>\n",
       "      <td>0.446441</td>\n",
       "    </tr>\n",
       "    <tr>\n",
       "      <th>5</th>\n",
       "      <td>pf_deg2</td>\n",
       "      <td>466754.337621</td>\n",
       "      <td>0.473084</td>\n",
       "    </tr>\n",
       "    <tr>\n",
       "      <th>6</th>\n",
       "      <td>pf_deg3</td>\n",
       "      <td>465129.449454</td>\n",
       "      <td>0.476746</td>\n",
       "    </tr>\n",
       "    <tr>\n",
       "      <th>7</th>\n",
       "      <td>pf_deg1</td>\n",
       "      <td>478486.214852</td>\n",
       "      <td>0.446263</td>\n",
       "    </tr>\n",
       "  </tbody>\n",
       "</table>\n",
       "</div>"
      ],
      "text/plain": [
       "      model           rmse        r2\n",
       "0  baseline  731760.029230  0.000000\n",
       "1       Ols  481305.863988  0.439718\n",
       "2      lars  478459.822561  0.446324\n",
       "3     lars2  478434.249674  0.446383\n",
       "4     lars3  478409.496320  0.446441\n",
       "5   pf_deg2  466754.337621  0.473084\n",
       "6   pf_deg3  465129.449454  0.476746\n",
       "7   pf_deg1  478486.214852  0.446263"
      ]
     },
     "execution_count": 270,
     "metadata": {},
     "output_type": "execute_result"
    }
   ],
   "source": [
    "metrics.loc[7]=('pf_deg1',rmse,r2)\n",
    "metrics"
   ]
  },
  {
   "cell_type": "markdown",
   "id": "9a26d6bb",
   "metadata": {},
   "source": [
    "### Generalized linear model"
   ]
  },
  {
   "cell_type": "code",
   "execution_count": 271,
   "id": "ac637b1a",
   "metadata": {},
   "outputs": [],
   "source": [
    "glm = TweedieRegressor(power=0, alpha=0)"
   ]
  },
  {
   "cell_type": "code",
   "execution_count": 272,
   "id": "3fb9da71",
   "metadata": {},
   "outputs": [],
   "source": [
    "glm.fit(x_train_scaled,y_train)\n",
    "pred_glm = glm.predict(x_train_scaled)\n",
    "pred_val_glm = glm.predict(x_validate_scaled)"
   ]
  },
  {
   "cell_type": "code",
   "execution_count": 273,
   "id": "c6bdf21c",
   "metadata": {},
   "outputs": [],
   "source": [
    "rmse,r2=metrics_reg(y_validate,pred_val_glm)"
   ]
  },
  {
   "cell_type": "code",
   "execution_count": 274,
   "id": "cc47a1a7",
   "metadata": {},
   "outputs": [
    {
     "data": {
      "text/html": [
       "<div>\n",
       "<style scoped>\n",
       "    .dataframe tbody tr th:only-of-type {\n",
       "        vertical-align: middle;\n",
       "    }\n",
       "\n",
       "    .dataframe tbody tr th {\n",
       "        vertical-align: top;\n",
       "    }\n",
       "\n",
       "    .dataframe thead th {\n",
       "        text-align: right;\n",
       "    }\n",
       "</style>\n",
       "<table border=\"1\" class=\"dataframe\">\n",
       "  <thead>\n",
       "    <tr style=\"text-align: right;\">\n",
       "      <th></th>\n",
       "      <th>model</th>\n",
       "      <th>rmse</th>\n",
       "      <th>r2</th>\n",
       "    </tr>\n",
       "  </thead>\n",
       "  <tbody>\n",
       "    <tr>\n",
       "      <th>0</th>\n",
       "      <td>baseline</td>\n",
       "      <td>731760.029230</td>\n",
       "      <td>0.000000</td>\n",
       "    </tr>\n",
       "    <tr>\n",
       "      <th>1</th>\n",
       "      <td>Ols</td>\n",
       "      <td>481305.863988</td>\n",
       "      <td>0.439718</td>\n",
       "    </tr>\n",
       "    <tr>\n",
       "      <th>2</th>\n",
       "      <td>lars</td>\n",
       "      <td>478459.822561</td>\n",
       "      <td>0.446324</td>\n",
       "    </tr>\n",
       "    <tr>\n",
       "      <th>3</th>\n",
       "      <td>lars2</td>\n",
       "      <td>478434.249674</td>\n",
       "      <td>0.446383</td>\n",
       "    </tr>\n",
       "    <tr>\n",
       "      <th>4</th>\n",
       "      <td>lars3</td>\n",
       "      <td>478409.496320</td>\n",
       "      <td>0.446441</td>\n",
       "    </tr>\n",
       "    <tr>\n",
       "      <th>5</th>\n",
       "      <td>pf_deg2</td>\n",
       "      <td>466754.337621</td>\n",
       "      <td>0.473084</td>\n",
       "    </tr>\n",
       "    <tr>\n",
       "      <th>6</th>\n",
       "      <td>pf_deg3</td>\n",
       "      <td>465129.449454</td>\n",
       "      <td>0.476746</td>\n",
       "    </tr>\n",
       "    <tr>\n",
       "      <th>7</th>\n",
       "      <td>pf_deg1</td>\n",
       "      <td>478486.214852</td>\n",
       "      <td>0.446263</td>\n",
       "    </tr>\n",
       "    <tr>\n",
       "      <th>8</th>\n",
       "      <td>glm0,0</td>\n",
       "      <td>478486.216743</td>\n",
       "      <td>0.446263</td>\n",
       "    </tr>\n",
       "  </tbody>\n",
       "</table>\n",
       "</div>"
      ],
      "text/plain": [
       "      model           rmse        r2\n",
       "0  baseline  731760.029230  0.000000\n",
       "1       Ols  481305.863988  0.439718\n",
       "2      lars  478459.822561  0.446324\n",
       "3     lars2  478434.249674  0.446383\n",
       "4     lars3  478409.496320  0.446441\n",
       "5   pf_deg2  466754.337621  0.473084\n",
       "6   pf_deg3  465129.449454  0.476746\n",
       "7   pf_deg1  478486.214852  0.446263\n",
       "8    glm0,0  478486.216743  0.446263"
      ]
     },
     "execution_count": 274,
     "metadata": {},
     "output_type": "execute_result"
    }
   ],
   "source": [
    "metrics.loc[8]=('glm0,0',rmse,r2)\n",
    "metrics"
   ]
  },
  {
   "cell_type": "code",
   "execution_count": 275,
   "id": "a1be8b49",
   "metadata": {},
   "outputs": [],
   "source": [
    "glm = TweedieRegressor(power=1, alpha=1)"
   ]
  },
  {
   "cell_type": "code",
   "execution_count": 276,
   "id": "b978015b",
   "metadata": {},
   "outputs": [],
   "source": [
    "glm.fit(x_train_scaled,y_train)\n",
    "pred_glm = glm.predict(x_train_scaled)\n",
    "pred_val_glm = glm.predict(x_validate_scaled)"
   ]
  },
  {
   "cell_type": "code",
   "execution_count": 277,
   "id": "63262afe",
   "metadata": {},
   "outputs": [],
   "source": [
    "rmse,r2=metrics_reg(y_validate,pred_val_glm)"
   ]
  },
  {
   "cell_type": "code",
   "execution_count": 278,
   "id": "06b2c890",
   "metadata": {},
   "outputs": [
    {
     "data": {
      "text/html": [
       "<div>\n",
       "<style scoped>\n",
       "    .dataframe tbody tr th:only-of-type {\n",
       "        vertical-align: middle;\n",
       "    }\n",
       "\n",
       "    .dataframe tbody tr th {\n",
       "        vertical-align: top;\n",
       "    }\n",
       "\n",
       "    .dataframe thead th {\n",
       "        text-align: right;\n",
       "    }\n",
       "</style>\n",
       "<table border=\"1\" class=\"dataframe\">\n",
       "  <thead>\n",
       "    <tr style=\"text-align: right;\">\n",
       "      <th></th>\n",
       "      <th>model</th>\n",
       "      <th>rmse</th>\n",
       "      <th>r2</th>\n",
       "    </tr>\n",
       "  </thead>\n",
       "  <tbody>\n",
       "    <tr>\n",
       "      <th>0</th>\n",
       "      <td>baseline</td>\n",
       "      <td>731760.029230</td>\n",
       "      <td>0.000000</td>\n",
       "    </tr>\n",
       "    <tr>\n",
       "      <th>1</th>\n",
       "      <td>Ols</td>\n",
       "      <td>481305.863988</td>\n",
       "      <td>0.439718</td>\n",
       "    </tr>\n",
       "    <tr>\n",
       "      <th>2</th>\n",
       "      <td>lars</td>\n",
       "      <td>478459.822561</td>\n",
       "      <td>0.446324</td>\n",
       "    </tr>\n",
       "    <tr>\n",
       "      <th>3</th>\n",
       "      <td>lars2</td>\n",
       "      <td>478434.249674</td>\n",
       "      <td>0.446383</td>\n",
       "    </tr>\n",
       "    <tr>\n",
       "      <th>4</th>\n",
       "      <td>lars3</td>\n",
       "      <td>478409.496320</td>\n",
       "      <td>0.446441</td>\n",
       "    </tr>\n",
       "    <tr>\n",
       "      <th>5</th>\n",
       "      <td>pf_deg2</td>\n",
       "      <td>466754.337621</td>\n",
       "      <td>0.473084</td>\n",
       "    </tr>\n",
       "    <tr>\n",
       "      <th>6</th>\n",
       "      <td>pf_deg3</td>\n",
       "      <td>465129.449454</td>\n",
       "      <td>0.476746</td>\n",
       "    </tr>\n",
       "    <tr>\n",
       "      <th>7</th>\n",
       "      <td>pf_deg1</td>\n",
       "      <td>478486.214852</td>\n",
       "      <td>0.446263</td>\n",
       "    </tr>\n",
       "    <tr>\n",
       "      <th>8</th>\n",
       "      <td>glm0,0</td>\n",
       "      <td>478486.216743</td>\n",
       "      <td>0.446263</td>\n",
       "    </tr>\n",
       "    <tr>\n",
       "      <th>9</th>\n",
       "      <td>glm1,1</td>\n",
       "      <td>497724.392126</td>\n",
       "      <td>0.400841</td>\n",
       "    </tr>\n",
       "  </tbody>\n",
       "</table>\n",
       "</div>"
      ],
      "text/plain": [
       "      model           rmse        r2\n",
       "0  baseline  731760.029230  0.000000\n",
       "1       Ols  481305.863988  0.439718\n",
       "2      lars  478459.822561  0.446324\n",
       "3     lars2  478434.249674  0.446383\n",
       "4     lars3  478409.496320  0.446441\n",
       "5   pf_deg2  466754.337621  0.473084\n",
       "6   pf_deg3  465129.449454  0.476746\n",
       "7   pf_deg1  478486.214852  0.446263\n",
       "8    glm0,0  478486.216743  0.446263\n",
       "9    glm1,1  497724.392126  0.400841"
      ]
     },
     "execution_count": 278,
     "metadata": {},
     "output_type": "execute_result"
    }
   ],
   "source": [
    "metrics.loc[9]=('glm1,1',rmse,r2)\n",
    "metrics"
   ]
  },
  {
   "cell_type": "code",
   "execution_count": 279,
   "id": "05073b23",
   "metadata": {},
   "outputs": [],
   "source": [
    "glm = TweedieRegressor(power=2, alpha=2)\n",
    "glm.fit(x_train_scaled,y_train)\n",
    "pred_glm = glm.predict(x_train_scaled)\n",
    "pred_val_glm = glm.predict(x_validate_scaled)"
   ]
  },
  {
   "cell_type": "code",
   "execution_count": 280,
   "id": "179b2b06",
   "metadata": {},
   "outputs": [],
   "source": [
    "rmse,r2=metrics_reg(y_validate,pred_val_glm)"
   ]
  },
  {
   "cell_type": "code",
   "execution_count": 281,
   "id": "bb6a7c10",
   "metadata": {},
   "outputs": [
    {
     "data": {
      "text/html": [
       "<div>\n",
       "<style scoped>\n",
       "    .dataframe tbody tr th:only-of-type {\n",
       "        vertical-align: middle;\n",
       "    }\n",
       "\n",
       "    .dataframe tbody tr th {\n",
       "        vertical-align: top;\n",
       "    }\n",
       "\n",
       "    .dataframe thead th {\n",
       "        text-align: right;\n",
       "    }\n",
       "</style>\n",
       "<table border=\"1\" class=\"dataframe\">\n",
       "  <thead>\n",
       "    <tr style=\"text-align: right;\">\n",
       "      <th></th>\n",
       "      <th>model</th>\n",
       "      <th>rmse</th>\n",
       "      <th>r2</th>\n",
       "    </tr>\n",
       "  </thead>\n",
       "  <tbody>\n",
       "    <tr>\n",
       "      <th>0</th>\n",
       "      <td>baseline</td>\n",
       "      <td>731760.029230</td>\n",
       "      <td>0.000000</td>\n",
       "    </tr>\n",
       "    <tr>\n",
       "      <th>1</th>\n",
       "      <td>Ols</td>\n",
       "      <td>481305.863988</td>\n",
       "      <td>0.439718</td>\n",
       "    </tr>\n",
       "    <tr>\n",
       "      <th>2</th>\n",
       "      <td>lars</td>\n",
       "      <td>478459.822561</td>\n",
       "      <td>0.446324</td>\n",
       "    </tr>\n",
       "    <tr>\n",
       "      <th>3</th>\n",
       "      <td>lars2</td>\n",
       "      <td>478434.249674</td>\n",
       "      <td>0.446383</td>\n",
       "    </tr>\n",
       "    <tr>\n",
       "      <th>4</th>\n",
       "      <td>lars3</td>\n",
       "      <td>478409.496320</td>\n",
       "      <td>0.446441</td>\n",
       "    </tr>\n",
       "    <tr>\n",
       "      <th>5</th>\n",
       "      <td>pf_deg2</td>\n",
       "      <td>466754.337621</td>\n",
       "      <td>0.473084</td>\n",
       "    </tr>\n",
       "    <tr>\n",
       "      <th>6</th>\n",
       "      <td>pf_deg3</td>\n",
       "      <td>465129.449454</td>\n",
       "      <td>0.476746</td>\n",
       "    </tr>\n",
       "    <tr>\n",
       "      <th>7</th>\n",
       "      <td>pf_deg1</td>\n",
       "      <td>478486.214852</td>\n",
       "      <td>0.446263</td>\n",
       "    </tr>\n",
       "    <tr>\n",
       "      <th>8</th>\n",
       "      <td>glm0,0</td>\n",
       "      <td>478486.216743</td>\n",
       "      <td>0.446263</td>\n",
       "    </tr>\n",
       "    <tr>\n",
       "      <th>9</th>\n",
       "      <td>glm1,1</td>\n",
       "      <td>497724.392126</td>\n",
       "      <td>0.400841</td>\n",
       "    </tr>\n",
       "    <tr>\n",
       "      <th>10</th>\n",
       "      <td>glm2,2</td>\n",
       "      <td>540351.349151</td>\n",
       "      <td>0.293817</td>\n",
       "    </tr>\n",
       "  </tbody>\n",
       "</table>\n",
       "</div>"
      ],
      "text/plain": [
       "       model           rmse        r2\n",
       "0   baseline  731760.029230  0.000000\n",
       "1        Ols  481305.863988  0.439718\n",
       "2       lars  478459.822561  0.446324\n",
       "3      lars2  478434.249674  0.446383\n",
       "4      lars3  478409.496320  0.446441\n",
       "5    pf_deg2  466754.337621  0.473084\n",
       "6    pf_deg3  465129.449454  0.476746\n",
       "7    pf_deg1  478486.214852  0.446263\n",
       "8     glm0,0  478486.216743  0.446263\n",
       "9     glm1,1  497724.392126  0.400841\n",
       "10    glm2,2  540351.349151  0.293817"
      ]
     },
     "execution_count": 281,
     "metadata": {},
     "output_type": "execute_result"
    }
   ],
   "source": [
    "metrics.loc[10]=('glm2,2',rmse,r2)\n",
    "metrics"
   ]
  },
  {
   "cell_type": "code",
   "execution_count": null,
   "id": "a65dd187",
   "metadata": {},
   "outputs": [],
   "source": []
  },
  {
   "cell_type": "code",
   "execution_count": null,
   "id": "ff33e211",
   "metadata": {},
   "outputs": [],
   "source": []
  }
 ],
 "metadata": {
  "kernelspec": {
   "display_name": "Python 3 (ipykernel)",
   "language": "python",
   "name": "python3"
  },
  "language_info": {
   "codemirror_mode": {
    "name": "ipython",
    "version": 3
   },
   "file_extension": ".py",
   "mimetype": "text/x-python",
   "name": "python",
   "nbconvert_exporter": "python",
   "pygments_lexer": "ipython3",
   "version": "3.9.13"
  }
 },
 "nbformat": 4,
 "nbformat_minor": 5
}
